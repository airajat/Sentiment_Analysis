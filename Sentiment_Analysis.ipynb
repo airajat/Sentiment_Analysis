{
 "cells": [
  {
   "cell_type": "markdown",
   "metadata": {
    "id": "0jSVKiHOFof-"
   },
   "source": [
    "**AIM:** To analyze the reason for the dissatisfaction of the customers and develop insights for the area of improvement.\n",
    "\n",
    "This notebook is prepared to answer the second question of the research ( “Sentiment Analysis to Analyse Customer Reviews and Identify Areas for Improvement in The Product” ).\n",
    "\n",
    "Name of the file is: **Amazon Echo Dot 2 Reviews.csv**\n",
    "\n",
    "For this the dataset used is the dataset(b) (Yu 2022) available on the online platform “Kaggle” which is in CSV (Comma Separated Values) format and consists of 52,942 data points and 12 features.\n",
    "\n",
    "This dataset can be downloaded from the given link: https://www.kaggle.com/datasets/linzey/amazon-echo-dot-2-reviews\n",
    "\n",
    "To answer the proposed question of the research, following steps are followed:\n",
    "\n",
    "1.   Importing the required libraries.\n",
    "2.   Loading the dataset.\n",
    "3.   Data Analysis\n",
    "4.   Preprocessing of Textual data\n",
    "5.   Polarity Distribution\n",
    "6.   Analysis of different sentiments of reviews\n",
    "7.   Implementing LDA model"
   ]
  },
  {
   "cell_type": "markdown",
   "metadata": {
    "id": "ofvDFYmqnLRY"
   },
   "source": [
    "**Importing the required Libraries**\n",
    "\n",
    "All the required libraries that will support efficient execution of the code are downloaded in the following code cell."
   ]
  },
  {
   "cell_type": "code",
   "execution_count": null,
   "metadata": {
    "colab": {
     "base_uri": "https://localhost:8080/"
    },
    "id": "pbHmZyXCSWau",
    "outputId": "ac24fe7b-0ab7-46a9-95d1-0cfb93c53ef9"
   },
   "outputs": [
    {
     "name": "stderr",
     "output_type": "stream",
     "text": [
      "[nltk_data] Downloading package stopwords to /root/nltk_data...\n",
      "[nltk_data]   Unzipping corpora/stopwords.zip.\n"
     ]
    }
   ],
   "source": [
    "# Import all required libraries\n",
    "import pandas as pd\n",
    "import numpy as np\n",
    "import re\n",
    "import seaborn as sns\n",
    "import matplotlib.pyplot as plt\n",
    "from matplotlib import style\n",
    "style.use('ggplot')\n",
    "from textblob import TextBlob\n",
    "import nltk\n",
    "nltk.download('stopwords')\n",
    "from nltk.tokenize import word_tokenize\n",
    "from nltk.stem import PorterStemmer\n",
    "from nltk.corpus import stopwords\n",
    "stop_words = set(stopwords.words('english'))\n",
    "from wordcloud import WordCloud\n",
    "from nltk.corpus.reader import reviews\n",
    "import gensim\n",
    "from gensim import corpora\n",
    "from matplotlib.patches import Wedge"
   ]
  },
  {
   "cell_type": "markdown",
   "metadata": {
    "id": "LDicCqjVF51g"
   },
   "source": [
    "**Loading the Dataset**\n",
    "\n",
    "In this notebook the above discussed data is downloaded from the website which is in CSV format and uploaded here using the upload feature of the Google Colab."
   ]
  },
  {
   "cell_type": "code",
   "execution_count": null,
   "metadata": {
    "id": "TXQZz_yJPo6v"
   },
   "outputs": [],
   "source": [
    "# To read the dataset\n",
    "ds = pd.read_csv('/content/Amazon Echo Dot 2 Reviews.csv')                       # Here \"ds\" is defined as the dataset provided"
   ]
  },
  {
   "cell_type": "markdown",
   "metadata": {
    "id": "NscK1xVlF95Z"
   },
   "source": [
    "**Dataset Analysis**\n",
    "\n",
    "After looking at the data it is found that it consist of several columns in which different information is stored.\n",
    "The column are: 'Uniq Id', 'Crawl Timestamp', 'Pageurl', 'Title', 'Review Text',\n",
    "       'Review Color', 'User Verified', 'Review Date', 'Review Useful Count',\n",
    "       'Configuration Text', 'Ratting', 'Declaration Text'.\n",
    "Out of the given columns the most valuable and required information is stored in 'Review Text' thus except that all other coluns are dropped. After further analysis the found missing values from the 'Review Text' are dropped."
   ]
  },
  {
   "cell_type": "code",
   "execution_count": null,
   "metadata": {
    "colab": {
     "base_uri": "https://localhost:8080/",
     "height": 354
    },
    "id": "K7FljRBmSUUu",
    "outputId": "bc1d2958-a086-4153-971a-8f9f7ca029b6"
   },
   "outputs": [
    {
     "data": {
      "text/html": [
       "\n",
       "  <div id=\"df-3818d474-397b-44ae-a5e3-e9e7651655ed\">\n",
       "    <div class=\"colab-df-container\">\n",
       "      <div>\n",
       "<style scoped>\n",
       "    .dataframe tbody tr th:only-of-type {\n",
       "        vertical-align: middle;\n",
       "    }\n",
       "\n",
       "    .dataframe tbody tr th {\n",
       "        vertical-align: top;\n",
       "    }\n",
       "\n",
       "    .dataframe thead th {\n",
       "        text-align: right;\n",
       "    }\n",
       "</style>\n",
       "<table border=\"1\" class=\"dataframe\">\n",
       "  <thead>\n",
       "    <tr style=\"text-align: right;\">\n",
       "      <th></th>\n",
       "      <th>Uniq Id</th>\n",
       "      <th>Crawl Timestamp</th>\n",
       "      <th>Pageurl</th>\n",
       "      <th>Title</th>\n",
       "      <th>Review Text</th>\n",
       "      <th>Review Color</th>\n",
       "      <th>User Verified</th>\n",
       "      <th>Review Date</th>\n",
       "      <th>Review Useful Count</th>\n",
       "      <th>Configuration Text</th>\n",
       "      <th>Ratting</th>\n",
       "      <th>Declaration Text</th>\n",
       "    </tr>\n",
       "  </thead>\n",
       "  <tbody>\n",
       "    <tr>\n",
       "      <th>0</th>\n",
       "      <td>d63583450415a20094950528ffb4d955</td>\n",
       "      <td>2017-10-26T15:57:14Z</td>\n",
       "      <td>https://www.amazon.com/All-New-Amazon-Echo-Dot...</td>\n",
       "      <td>Five Stars</td>\n",
       "      <td>Love the Echo Dot.</td>\n",
       "      <td>Black</td>\n",
       "      <td>Verified Purchase</td>\n",
       "      <td>2017-07-03</td>\n",
       "      <td>NaN</td>\n",
       "      <td>Echo Dot</td>\n",
       "      <td>5.0 out of 5 stars</td>\n",
       "      <td>NaN</td>\n",
       "    </tr>\n",
       "    <tr>\n",
       "      <th>1</th>\n",
       "      <td>dc8e5ca6b44bea1006c8bb85cdca3816</td>\n",
       "      <td>2017-10-26T15:57:14Z</td>\n",
       "      <td>https://www.amazon.com/All-New-Amazon-Echo-Dot...</td>\n",
       "      <td>Five Stars</td>\n",
       "      <td>Working just fine.</td>\n",
       "      <td>Black</td>\n",
       "      <td>Verified Purchase</td>\n",
       "      <td>2017-07-12</td>\n",
       "      <td>NaN</td>\n",
       "      <td>Echo Dot</td>\n",
       "      <td>5.0 out of 5 stars</td>\n",
       "      <td>NaN</td>\n",
       "    </tr>\n",
       "    <tr>\n",
       "      <th>2</th>\n",
       "      <td>f3f823996e2317dd65a6235011492b42</td>\n",
       "      <td>2017-10-26T15:57:14Z</td>\n",
       "      <td>https://www.amazon.com/All-New-Amazon-Echo-Dot...</td>\n",
       "      <td>Five Stars</td>\n",
       "      <td>I love my Echo Dot</td>\n",
       "      <td>Black</td>\n",
       "      <td>Verified Purchase</td>\n",
       "      <td>2017-08-01</td>\n",
       "      <td>NaN</td>\n",
       "      <td>Echo Dot</td>\n",
       "      <td>5.0 out of 5 stars</td>\n",
       "      <td>NaN</td>\n",
       "    </tr>\n",
       "    <tr>\n",
       "      <th>3</th>\n",
       "      <td>3b6c928e62707a1530c591b897b864d6</td>\n",
       "      <td>2017-10-26T15:57:14Z</td>\n",
       "      <td>https://www.amazon.com/All-New-Amazon-Echo-Dot...</td>\n",
       "      <td>Three Stars</td>\n",
       "      <td>Not great speakers</td>\n",
       "      <td>Black</td>\n",
       "      <td>Verified Purchase</td>\n",
       "      <td>2017-10-03</td>\n",
       "      <td>NaN</td>\n",
       "      <td>Echo Dot</td>\n",
       "      <td>3.0 out of 5 stars</td>\n",
       "      <td>NaN</td>\n",
       "    </tr>\n",
       "    <tr>\n",
       "      <th>4</th>\n",
       "      <td>275af85c81c1be55efd706f51a6c7cbe</td>\n",
       "      <td>2017-10-26T15:57:14Z</td>\n",
       "      <td>https://www.amazon.com/All-New-Amazon-Echo-Dot...</td>\n",
       "      <td>Five Stars</td>\n",
       "      <td>Great assistant !!</td>\n",
       "      <td>Black</td>\n",
       "      <td>Verified Purchase</td>\n",
       "      <td>2017-07-22</td>\n",
       "      <td>NaN</td>\n",
       "      <td>Echo Dot</td>\n",
       "      <td>5.0 out of 5 stars</td>\n",
       "      <td>NaN</td>\n",
       "    </tr>\n",
       "  </tbody>\n",
       "</table>\n",
       "</div>\n",
       "      <button class=\"colab-df-convert\" onclick=\"convertToInteractive('df-3818d474-397b-44ae-a5e3-e9e7651655ed')\"\n",
       "              title=\"Convert this dataframe to an interactive table.\"\n",
       "              style=\"display:none;\">\n",
       "        \n",
       "  <svg xmlns=\"http://www.w3.org/2000/svg\" height=\"24px\"viewBox=\"0 0 24 24\"\n",
       "       width=\"24px\">\n",
       "    <path d=\"M0 0h24v24H0V0z\" fill=\"none\"/>\n",
       "    <path d=\"M18.56 5.44l.94 2.06.94-2.06 2.06-.94-2.06-.94-.94-2.06-.94 2.06-2.06.94zm-11 1L8.5 8.5l.94-2.06 2.06-.94-2.06-.94L8.5 2.5l-.94 2.06-2.06.94zm10 10l.94 2.06.94-2.06 2.06-.94-2.06-.94-.94-2.06-.94 2.06-2.06.94z\"/><path d=\"M17.41 7.96l-1.37-1.37c-.4-.4-.92-.59-1.43-.59-.52 0-1.04.2-1.43.59L10.3 9.45l-7.72 7.72c-.78.78-.78 2.05 0 2.83L4 21.41c.39.39.9.59 1.41.59.51 0 1.02-.2 1.41-.59l7.78-7.78 2.81-2.81c.8-.78.8-2.07 0-2.86zM5.41 20L4 18.59l7.72-7.72 1.47 1.35L5.41 20z\"/>\n",
       "  </svg>\n",
       "      </button>\n",
       "      \n",
       "  <style>\n",
       "    .colab-df-container {\n",
       "      display:flex;\n",
       "      flex-wrap:wrap;\n",
       "      gap: 12px;\n",
       "    }\n",
       "\n",
       "    .colab-df-convert {\n",
       "      background-color: #E8F0FE;\n",
       "      border: none;\n",
       "      border-radius: 50%;\n",
       "      cursor: pointer;\n",
       "      display: none;\n",
       "      fill: #1967D2;\n",
       "      height: 32px;\n",
       "      padding: 0 0 0 0;\n",
       "      width: 32px;\n",
       "    }\n",
       "\n",
       "    .colab-df-convert:hover {\n",
       "      background-color: #E2EBFA;\n",
       "      box-shadow: 0px 1px 2px rgba(60, 64, 67, 0.3), 0px 1px 3px 1px rgba(60, 64, 67, 0.15);\n",
       "      fill: #174EA6;\n",
       "    }\n",
       "\n",
       "    [theme=dark] .colab-df-convert {\n",
       "      background-color: #3B4455;\n",
       "      fill: #D2E3FC;\n",
       "    }\n",
       "\n",
       "    [theme=dark] .colab-df-convert:hover {\n",
       "      background-color: #434B5C;\n",
       "      box-shadow: 0px 1px 3px 1px rgba(0, 0, 0, 0.15);\n",
       "      filter: drop-shadow(0px 1px 2px rgba(0, 0, 0, 0.3));\n",
       "      fill: #FFFFFF;\n",
       "    }\n",
       "  </style>\n",
       "\n",
       "      <script>\n",
       "        const buttonEl =\n",
       "          document.querySelector('#df-3818d474-397b-44ae-a5e3-e9e7651655ed button.colab-df-convert');\n",
       "        buttonEl.style.display =\n",
       "          google.colab.kernel.accessAllowed ? 'block' : 'none';\n",
       "\n",
       "        async function convertToInteractive(key) {\n",
       "          const element = document.querySelector('#df-3818d474-397b-44ae-a5e3-e9e7651655ed');\n",
       "          const dataTable =\n",
       "            await google.colab.kernel.invokeFunction('convertToInteractive',\n",
       "                                                     [key], {});\n",
       "          if (!dataTable) return;\n",
       "\n",
       "          const docLinkHtml = 'Like what you see? Visit the ' +\n",
       "            '<a target=\"_blank\" href=https://colab.research.google.com/notebooks/data_table.ipynb>data table notebook</a>'\n",
       "            + ' to learn more about interactive tables.';\n",
       "          element.innerHTML = '';\n",
       "          dataTable['output_type'] = 'display_data';\n",
       "          await google.colab.output.renderOutput(dataTable, element);\n",
       "          const docLink = document.createElement('div');\n",
       "          docLink.innerHTML = docLinkHtml;\n",
       "          element.appendChild(docLink);\n",
       "        }\n",
       "      </script>\n",
       "    </div>\n",
       "  </div>\n",
       "  "
      ],
      "text/plain": [
       "                            Uniq Id       Crawl Timestamp  \\\n",
       "0  d63583450415a20094950528ffb4d955  2017-10-26T15:57:14Z   \n",
       "1  dc8e5ca6b44bea1006c8bb85cdca3816  2017-10-26T15:57:14Z   \n",
       "2  f3f823996e2317dd65a6235011492b42  2017-10-26T15:57:14Z   \n",
       "3  3b6c928e62707a1530c591b897b864d6  2017-10-26T15:57:14Z   \n",
       "4  275af85c81c1be55efd706f51a6c7cbe  2017-10-26T15:57:14Z   \n",
       "\n",
       "                                             Pageurl        Title  \\\n",
       "0  https://www.amazon.com/All-New-Amazon-Echo-Dot...   Five Stars   \n",
       "1  https://www.amazon.com/All-New-Amazon-Echo-Dot...   Five Stars   \n",
       "2  https://www.amazon.com/All-New-Amazon-Echo-Dot...   Five Stars   \n",
       "3  https://www.amazon.com/All-New-Amazon-Echo-Dot...  Three Stars   \n",
       "4  https://www.amazon.com/All-New-Amazon-Echo-Dot...   Five Stars   \n",
       "\n",
       "          Review Text Review Color      User Verified Review Date  \\\n",
       "0  Love the Echo Dot.        Black  Verified Purchase  2017-07-03   \n",
       "1  Working just fine.        Black  Verified Purchase  2017-07-12   \n",
       "2  I love my Echo Dot        Black  Verified Purchase  2017-08-01   \n",
       "3  Not great speakers        Black  Verified Purchase  2017-10-03   \n",
       "4  Great assistant !!        Black  Verified Purchase  2017-07-22   \n",
       "\n",
       "   Review Useful Count Configuration Text             Ratting Declaration Text  \n",
       "0                  NaN           Echo Dot  5.0 out of 5 stars              NaN  \n",
       "1                  NaN           Echo Dot  5.0 out of 5 stars              NaN  \n",
       "2                  NaN           Echo Dot  5.0 out of 5 stars              NaN  \n",
       "3                  NaN           Echo Dot  3.0 out of 5 stars              NaN  \n",
       "4                  NaN           Echo Dot  5.0 out of 5 stars              NaN  "
      ]
     },
     "execution_count": 3,
     "metadata": {},
     "output_type": "execute_result"
    }
   ],
   "source": [
    "# To display the first few rows of the dataset\n",
    "ds.head()"
   ]
  },
  {
   "cell_type": "code",
   "execution_count": null,
   "metadata": {
    "colab": {
     "base_uri": "https://localhost:8080/"
    },
    "id": "QfCsiyT-PoVf",
    "outputId": "34091503-4799-4390-db9d-a8d362760179"
   },
   "outputs": [
    {
     "data": {
      "text/plain": [
       "Index(['Uniq Id', 'Crawl Timestamp', 'Pageurl', 'Title', 'Review Text',\n",
       "       'Review Color', 'User Verified', 'Review Date', 'Review Useful Count',\n",
       "       'Configuration Text', 'Ratting', 'Declaration Text'],\n",
       "      dtype='object')"
      ]
     },
     "execution_count": 4,
     "metadata": {},
     "output_type": "execute_result"
    }
   ],
   "source": [
    "# To get column names\n",
    "ds.columns"
   ]
  },
  {
   "cell_type": "code",
   "execution_count": null,
   "metadata": {
    "colab": {
     "base_uri": "https://localhost:8080/",
     "height": 363
    },
    "id": "ffA4XdCjSx5w",
    "outputId": "0b7e44ee-32ec-44f5-eb88-06e1c33009be"
   },
   "outputs": [
    {
     "data": {
      "text/html": [
       "\n",
       "  <div id=\"df-01e28646-54bf-4149-9810-43a7c81bb1a7\">\n",
       "    <div class=\"colab-df-container\">\n",
       "      <div>\n",
       "<style scoped>\n",
       "    .dataframe tbody tr th:only-of-type {\n",
       "        vertical-align: middle;\n",
       "    }\n",
       "\n",
       "    .dataframe tbody tr th {\n",
       "        vertical-align: top;\n",
       "    }\n",
       "\n",
       "    .dataframe thead th {\n",
       "        text-align: right;\n",
       "    }\n",
       "</style>\n",
       "<table border=\"1\" class=\"dataframe\">\n",
       "  <thead>\n",
       "    <tr style=\"text-align: right;\">\n",
       "      <th></th>\n",
       "      <th>Review Text</th>\n",
       "    </tr>\n",
       "  </thead>\n",
       "  <tbody>\n",
       "    <tr>\n",
       "      <th>0</th>\n",
       "      <td>Love the Echo Dot.</td>\n",
       "    </tr>\n",
       "    <tr>\n",
       "      <th>1</th>\n",
       "      <td>Working just fine.</td>\n",
       "    </tr>\n",
       "    <tr>\n",
       "      <th>2</th>\n",
       "      <td>I love my Echo Dot</td>\n",
       "    </tr>\n",
       "    <tr>\n",
       "      <th>3</th>\n",
       "      <td>Not great speakers</td>\n",
       "    </tr>\n",
       "    <tr>\n",
       "      <th>4</th>\n",
       "      <td>Great assistant !!</td>\n",
       "    </tr>\n",
       "    <tr>\n",
       "      <th>5</th>\n",
       "      <td>Works like a charm</td>\n",
       "    </tr>\n",
       "    <tr>\n",
       "      <th>6</th>\n",
       "      <td>Great little gagit</td>\n",
       "    </tr>\n",
       "    <tr>\n",
       "      <th>7</th>\n",
       "      <td>It needs some work</td>\n",
       "    </tr>\n",
       "    <tr>\n",
       "      <th>8</th>\n",
       "      <td>Neat little helper</td>\n",
       "    </tr>\n",
       "    <tr>\n",
       "      <th>9</th>\n",
       "      <td>Just what I needed</td>\n",
       "    </tr>\n",
       "  </tbody>\n",
       "</table>\n",
       "</div>\n",
       "      <button class=\"colab-df-convert\" onclick=\"convertToInteractive('df-01e28646-54bf-4149-9810-43a7c81bb1a7')\"\n",
       "              title=\"Convert this dataframe to an interactive table.\"\n",
       "              style=\"display:none;\">\n",
       "        \n",
       "  <svg xmlns=\"http://www.w3.org/2000/svg\" height=\"24px\"viewBox=\"0 0 24 24\"\n",
       "       width=\"24px\">\n",
       "    <path d=\"M0 0h24v24H0V0z\" fill=\"none\"/>\n",
       "    <path d=\"M18.56 5.44l.94 2.06.94-2.06 2.06-.94-2.06-.94-.94-2.06-.94 2.06-2.06.94zm-11 1L8.5 8.5l.94-2.06 2.06-.94-2.06-.94L8.5 2.5l-.94 2.06-2.06.94zm10 10l.94 2.06.94-2.06 2.06-.94-2.06-.94-.94-2.06-.94 2.06-2.06.94z\"/><path d=\"M17.41 7.96l-1.37-1.37c-.4-.4-.92-.59-1.43-.59-.52 0-1.04.2-1.43.59L10.3 9.45l-7.72 7.72c-.78.78-.78 2.05 0 2.83L4 21.41c.39.39.9.59 1.41.59.51 0 1.02-.2 1.41-.59l7.78-7.78 2.81-2.81c.8-.78.8-2.07 0-2.86zM5.41 20L4 18.59l7.72-7.72 1.47 1.35L5.41 20z\"/>\n",
       "  </svg>\n",
       "      </button>\n",
       "      \n",
       "  <style>\n",
       "    .colab-df-container {\n",
       "      display:flex;\n",
       "      flex-wrap:wrap;\n",
       "      gap: 12px;\n",
       "    }\n",
       "\n",
       "    .colab-df-convert {\n",
       "      background-color: #E8F0FE;\n",
       "      border: none;\n",
       "      border-radius: 50%;\n",
       "      cursor: pointer;\n",
       "      display: none;\n",
       "      fill: #1967D2;\n",
       "      height: 32px;\n",
       "      padding: 0 0 0 0;\n",
       "      width: 32px;\n",
       "    }\n",
       "\n",
       "    .colab-df-convert:hover {\n",
       "      background-color: #E2EBFA;\n",
       "      box-shadow: 0px 1px 2px rgba(60, 64, 67, 0.3), 0px 1px 3px 1px rgba(60, 64, 67, 0.15);\n",
       "      fill: #174EA6;\n",
       "    }\n",
       "\n",
       "    [theme=dark] .colab-df-convert {\n",
       "      background-color: #3B4455;\n",
       "      fill: #D2E3FC;\n",
       "    }\n",
       "\n",
       "    [theme=dark] .colab-df-convert:hover {\n",
       "      background-color: #434B5C;\n",
       "      box-shadow: 0px 1px 3px 1px rgba(0, 0, 0, 0.15);\n",
       "      filter: drop-shadow(0px 1px 2px rgba(0, 0, 0, 0.3));\n",
       "      fill: #FFFFFF;\n",
       "    }\n",
       "  </style>\n",
       "\n",
       "      <script>\n",
       "        const buttonEl =\n",
       "          document.querySelector('#df-01e28646-54bf-4149-9810-43a7c81bb1a7 button.colab-df-convert');\n",
       "        buttonEl.style.display =\n",
       "          google.colab.kernel.accessAllowed ? 'block' : 'none';\n",
       "\n",
       "        async function convertToInteractive(key) {\n",
       "          const element = document.querySelector('#df-01e28646-54bf-4149-9810-43a7c81bb1a7');\n",
       "          const dataTable =\n",
       "            await google.colab.kernel.invokeFunction('convertToInteractive',\n",
       "                                                     [key], {});\n",
       "          if (!dataTable) return;\n",
       "\n",
       "          const docLinkHtml = 'Like what you see? Visit the ' +\n",
       "            '<a target=\"_blank\" href=https://colab.research.google.com/notebooks/data_table.ipynb>data table notebook</a>'\n",
       "            + ' to learn more about interactive tables.';\n",
       "          element.innerHTML = '';\n",
       "          dataTable['output_type'] = 'display_data';\n",
       "          await google.colab.output.renderOutput(dataTable, element);\n",
       "          const docLink = document.createElement('div');\n",
       "          docLink.innerHTML = docLinkHtml;\n",
       "          element.appendChild(docLink);\n",
       "        }\n",
       "      </script>\n",
       "    </div>\n",
       "  </div>\n",
       "  "
      ],
      "text/plain": [
       "          Review Text\n",
       "0  Love the Echo Dot.\n",
       "1  Working just fine.\n",
       "2  I love my Echo Dot\n",
       "3  Not great speakers\n",
       "4  Great assistant !!\n",
       "5  Works like a charm\n",
       "6  Great little gagit\n",
       "7  It needs some work\n",
       "8  Neat little helper\n",
       "9  Just what I needed"
      ]
     },
     "execution_count": 5,
     "metadata": {},
     "output_type": "execute_result"
    }
   ],
   "source": [
    "# To drop all the cloumns other than customer's feedback(Review Text) as we are going to use text dataset only to perform sentiment analysis\n",
    "fb_ds = ds.drop(['Uniq Id', 'Crawl Timestamp', 'Pageurl', 'Title',\n",
    "       'Review Color', 'User Verified', 'Review Date', 'Review Useful Count',\n",
    "       'Configuration Text', 'Ratting', 'Declaration Text'], axis=1)              # Here 'axis=1' is to specify to drop columns(as opposed to rows)\n",
    "# To display the first 10 rows of the resulting dataset\n",
    "fb_ds.head(10)"
   ]
  },
  {
   "cell_type": "code",
   "execution_count": null,
   "metadata": {
    "colab": {
     "base_uri": "https://localhost:8080/"
    },
    "id": "rmiqZSPNSx65",
    "outputId": "f797069a-a7ae-448c-9126-af443461370c"
   },
   "outputs": [
    {
     "name": "stdout",
     "output_type": "stream",
     "text": [
      "Still learning. This is amazing. \n",
      "\n",
      "The best toy I bought myself in a long time. \n",
      "\n",
      "Awesome \n",
      "\n",
      "Echo Dot andAmazon Echo are great!! \n",
      "\n",
      "For the price and what it can do, I'm impressed.  I now have three of them set up throughout the house.  They sometimes have trouble hearing my children, but they seem to hear me fine.  I will probably pick up a few more in the future for a few other rooms in the house.The kids like to listen to music with them, but the built in speaker really isn't up to the task and the sound gets distorted with the volume over half.My wife and I use it for information and the occasional trivia game. \n",
      "\n"
     ]
    }
   ],
   "source": [
    "# To analyse the data in the text dataframe(fb_ds)\n",
    "print(fb_ds['Review Text'].iloc[10],\"\\n\")                                       # Used \"\\n\" for new line\n",
    "print(fb_ds['Review Text'].iloc[100],\"\\n\")\n",
    "print(fb_ds['Review Text'].iloc[200],\"\\n\")\n",
    "print(fb_ds['Review Text'].iloc[300],\"\\n\")\n",
    "print(fb_ds['Review Text'].iloc[400],\"\\n\")"
   ]
  },
  {
   "cell_type": "code",
   "execution_count": null,
   "metadata": {
    "colab": {
     "base_uri": "https://localhost:8080/"
    },
    "id": "vVEBGQxHS9bp",
    "outputId": "a2266149-530a-4759-ef6f-39863c7ec4a8"
   },
   "outputs": [
    {
     "name": "stdout",
     "output_type": "stream",
     "text": [
      "5\n"
     ]
    }
   ],
   "source": [
    "# Code to check missing values in the \"Review Text\" column of the dataframe\n",
    "print(fb_ds['Review Text'].isna().sum())"
   ]
  },
  {
   "cell_type": "code",
   "execution_count": null,
   "metadata": {
    "id": "llG8d1P0S9co"
   },
   "outputs": [],
   "source": [
    "# Code to drop the missing values from the column\n",
    "fb_ds = fb_ds.dropna(subset=['Review Text'])"
   ]
  },
  {
   "cell_type": "code",
   "execution_count": null,
   "metadata": {
    "colab": {
     "base_uri": "https://localhost:8080/"
    },
    "id": "tb88hrLmTQ8p",
    "outputId": "69a0b1a2-2012-4cb3-a604-a6f3f8ae8775"
   },
   "outputs": [
    {
     "name": "stdout",
     "output_type": "stream",
     "text": [
      "<class 'pandas.core.frame.DataFrame'>\n",
      "Int64Index: 10973 entries, 0 to 10976\n",
      "Data columns (total 1 columns):\n",
      " #   Column       Non-Null Count  Dtype \n",
      "---  ------       --------------  ----- \n",
      " 0   Review Text  10973 non-null  object\n",
      "dtypes: object(1)\n",
      "memory usage: 171.5+ KB\n"
     ]
    }
   ],
   "source": [
    "# To check the information of the data\n",
    "fb_ds.info()"
   ]
  },
  {
   "cell_type": "markdown",
   "metadata": {
    "id": "m68bNoXEGVfE"
   },
   "source": [
    " **Preprocessing for Textual data**\n",
    "\n",
    " Under this section the data cleaning is performed to assure the better computation by removing the invaluable information from the dataset by following different process for example, removing urls, hashtags, duplicate text, performing tokenization using NLTK library."
   ]
  },
  {
   "cell_type": "code",
   "execution_count": null,
   "metadata": {
    "id": "CEH71J44TQ9j"
   },
   "outputs": [],
   "source": [
    "# Create a function to do preprocessing for textual data\n",
    "def pre_processing(text):\n",
    "  text = text.lower()                                                           # To convert text into lower case\n",
    "  text = re.sub(r\"https\\S+|www\\S+https\\S+\", '', text, flags=re.MULTILINE)       # To remove url from the reviews using regex\n",
    "  text = re.sub(r'\\@w+|\\#','',text)                                             # To remove hastags and punctuations using regex\n",
    "  text = re.sub(r'[^\\w\\s]', '', text)                                           # To remove all other non-word and non-space characters using regex\n",
    "  text_tokens = word_tokenize(text)                                             # Tokenization to split the words into individual words using nltk library\n",
    "  new_text = [w for w in text_tokens if not w in stop_words]                    # To remove stopwords from the text as the have no use in sentiment analysis\n",
    "  return \" \".join(new_text)                                                     # To return the words joined into single string by 'join()'."
   ]
  },
  {
   "cell_type": "code",
   "execution_count": null,
   "metadata": {
    "colab": {
     "base_uri": "https://localhost:8080/"
    },
    "id": "01un6UG_Tftn",
    "outputId": "f1dcb276-2121-4da5-9f18-c9a65b38c59a"
   },
   "outputs": [],
   "source": [
    "# To apply the preprocessing function on the dataset.\n",
    "fb_ds['Review Text'] = fb_ds['Review Text'].fillna('')                          # To fill missing values in the column with the empty string\n",
    "nltk.download('punkt')                                                          # To download punkt module from nltk\n",
    "fb_ds['Review Text'] = fb_ds['Review Text'].apply(pre_processing)               # To apply the preprocessing on the 'Review Text' column and store the updated text in the 'Review Text'."
   ]
  },
  {
   "cell_type": "code",
   "execution_count": null,
   "metadata": {
    "colab": {
     "base_uri": "https://localhost:8080/"
    },
    "id": "mPlaACUQTfut",
    "outputId": "0bbce17c-7b15-4cc9-9eab-6e1f647ec8c4"
   },
   "outputs": [
    {
     "name": "stdout",
     "output_type": "stream",
     "text": [
      "Number of duplicates available, before removal: 1627\n",
      "Number of duplicates available, after removal: 0\n"
     ]
    }
   ],
   "source": [
    "# To check and drop duplicate data by using duplicate method\n",
    "print(\"Number of duplicates available, before removal:\", fb_ds.duplicated().sum())  # Print total sum of duplicates available\n",
    "fb_ds = fb_ds.drop_duplicates('Review Text')                                        # To drop the duplicates from the dataset\n",
    "print(\"Number of duplicates available, after removal:\", fb_ds.duplicated().sum())   # Print total sum of duplicates available"
   ]
  },
  {
   "cell_type": "code",
   "execution_count": null,
   "metadata": {
    "id": "XuVIyZD6GmOU"
   },
   "outputs": [],
   "source": [
    "# To perform stemming using PorterStemmer on the data so we can bring the data to its base form\n",
    "stemmer = PorterStemmer()\n",
    "fb_ds['Review Text'] = fb_ds['Review Text'].apply(lambda x: ' '.join([stemmer.stem(word) for word in x.split()]))"
   ]
  },
  {
   "cell_type": "code",
   "execution_count": null,
   "metadata": {
    "colab": {
     "base_uri": "https://localhost:8080/",
     "height": 206
    },
    "id": "lFYof3L0Go1m",
    "outputId": "a6ab7ac8-4965-4bde-c3af-ab8c642869bb"
   },
   "outputs": [
    {
     "data": {
      "text/html": [
       "\n",
       "  <div id=\"df-f505f602-116d-4d43-8652-9dd0fb6e1c67\">\n",
       "    <div class=\"colab-df-container\">\n",
       "      <div>\n",
       "<style scoped>\n",
       "    .dataframe tbody tr th:only-of-type {\n",
       "        vertical-align: middle;\n",
       "    }\n",
       "\n",
       "    .dataframe tbody tr th {\n",
       "        vertical-align: top;\n",
       "    }\n",
       "\n",
       "    .dataframe thead th {\n",
       "        text-align: right;\n",
       "    }\n",
       "</style>\n",
       "<table border=\"1\" class=\"dataframe\">\n",
       "  <thead>\n",
       "    <tr style=\"text-align: right;\">\n",
       "      <th></th>\n",
       "      <th>Review Text</th>\n",
       "    </tr>\n",
       "  </thead>\n",
       "  <tbody>\n",
       "    <tr>\n",
       "      <th>0</th>\n",
       "      <td>love echo dot</td>\n",
       "    </tr>\n",
       "    <tr>\n",
       "      <th>1</th>\n",
       "      <td>work fine</td>\n",
       "    </tr>\n",
       "    <tr>\n",
       "      <th>3</th>\n",
       "      <td>great speaker</td>\n",
       "    </tr>\n",
       "    <tr>\n",
       "      <th>4</th>\n",
       "      <td>great assist</td>\n",
       "    </tr>\n",
       "    <tr>\n",
       "      <th>5</th>\n",
       "      <td>work like charm</td>\n",
       "    </tr>\n",
       "  </tbody>\n",
       "</table>\n",
       "</div>\n",
       "      <button class=\"colab-df-convert\" onclick=\"convertToInteractive('df-f505f602-116d-4d43-8652-9dd0fb6e1c67')\"\n",
       "              title=\"Convert this dataframe to an interactive table.\"\n",
       "              style=\"display:none;\">\n",
       "        \n",
       "  <svg xmlns=\"http://www.w3.org/2000/svg\" height=\"24px\"viewBox=\"0 0 24 24\"\n",
       "       width=\"24px\">\n",
       "    <path d=\"M0 0h24v24H0V0z\" fill=\"none\"/>\n",
       "    <path d=\"M18.56 5.44l.94 2.06.94-2.06 2.06-.94-2.06-.94-.94-2.06-.94 2.06-2.06.94zm-11 1L8.5 8.5l.94-2.06 2.06-.94-2.06-.94L8.5 2.5l-.94 2.06-2.06.94zm10 10l.94 2.06.94-2.06 2.06-.94-2.06-.94-.94-2.06-.94 2.06-2.06.94z\"/><path d=\"M17.41 7.96l-1.37-1.37c-.4-.4-.92-.59-1.43-.59-.52 0-1.04.2-1.43.59L10.3 9.45l-7.72 7.72c-.78.78-.78 2.05 0 2.83L4 21.41c.39.39.9.59 1.41.59.51 0 1.02-.2 1.41-.59l7.78-7.78 2.81-2.81c.8-.78.8-2.07 0-2.86zM5.41 20L4 18.59l7.72-7.72 1.47 1.35L5.41 20z\"/>\n",
       "  </svg>\n",
       "      </button>\n",
       "      \n",
       "  <style>\n",
       "    .colab-df-container {\n",
       "      display:flex;\n",
       "      flex-wrap:wrap;\n",
       "      gap: 12px;\n",
       "    }\n",
       "\n",
       "    .colab-df-convert {\n",
       "      background-color: #E8F0FE;\n",
       "      border: none;\n",
       "      border-radius: 50%;\n",
       "      cursor: pointer;\n",
       "      display: none;\n",
       "      fill: #1967D2;\n",
       "      height: 32px;\n",
       "      padding: 0 0 0 0;\n",
       "      width: 32px;\n",
       "    }\n",
       "\n",
       "    .colab-df-convert:hover {\n",
       "      background-color: #E2EBFA;\n",
       "      box-shadow: 0px 1px 2px rgba(60, 64, 67, 0.3), 0px 1px 3px 1px rgba(60, 64, 67, 0.15);\n",
       "      fill: #174EA6;\n",
       "    }\n",
       "\n",
       "    [theme=dark] .colab-df-convert {\n",
       "      background-color: #3B4455;\n",
       "      fill: #D2E3FC;\n",
       "    }\n",
       "\n",
       "    [theme=dark] .colab-df-convert:hover {\n",
       "      background-color: #434B5C;\n",
       "      box-shadow: 0px 1px 3px 1px rgba(0, 0, 0, 0.15);\n",
       "      filter: drop-shadow(0px 1px 2px rgba(0, 0, 0, 0.3));\n",
       "      fill: #FFFFFF;\n",
       "    }\n",
       "  </style>\n",
       "\n",
       "      <script>\n",
       "        const buttonEl =\n",
       "          document.querySelector('#df-f505f602-116d-4d43-8652-9dd0fb6e1c67 button.colab-df-convert');\n",
       "        buttonEl.style.display =\n",
       "          google.colab.kernel.accessAllowed ? 'block' : 'none';\n",
       "\n",
       "        async function convertToInteractive(key) {\n",
       "          const element = document.querySelector('#df-f505f602-116d-4d43-8652-9dd0fb6e1c67');\n",
       "          const dataTable =\n",
       "            await google.colab.kernel.invokeFunction('convertToInteractive',\n",
       "                                                     [key], {});\n",
       "          if (!dataTable) return;\n",
       "\n",
       "          const docLinkHtml = 'Like what you see? Visit the ' +\n",
       "            '<a target=\"_blank\" href=https://colab.research.google.com/notebooks/data_table.ipynb>data table notebook</a>'\n",
       "            + ' to learn more about interactive tables.';\n",
       "          element.innerHTML = '';\n",
       "          dataTable['output_type'] = 'display_data';\n",
       "          await google.colab.output.renderOutput(dataTable, element);\n",
       "          const docLink = document.createElement('div');\n",
       "          docLink.innerHTML = docLinkHtml;\n",
       "          element.appendChild(docLink);\n",
       "        }\n",
       "      </script>\n",
       "    </div>\n",
       "  </div>\n",
       "  "
      ],
      "text/plain": [
       "       Review Text\n",
       "0    love echo dot\n",
       "1        work fine\n",
       "3    great speaker\n",
       "4     great assist\n",
       "5  work like charm"
      ]
     },
     "execution_count": 14,
     "metadata": {},
     "output_type": "execute_result"
    }
   ],
   "source": [
    "# To display data in the head function\n",
    "fb_ds.head()"
   ]
  },
  {
   "cell_type": "code",
   "execution_count": null,
   "metadata": {
    "colab": {
     "base_uri": "https://localhost:8080/"
    },
    "id": "KBaFkMIXGrqE",
    "outputId": "4e974f85-fb0f-449d-dc61-77111998db76"
   },
   "outputs": [
    {
     "name": "stdout",
     "output_type": "stream",
     "text": [
      "love echo dot \n",
      "\n",
      "work fine \n",
      "\n",
      "great speaker \n",
      "\n",
      "great assist \n",
      "\n",
      "work like charm \n",
      "\n"
     ]
    }
   ],
   "source": [
    "# To check the implimentation of preprocessing on the data in the dataframe(fb_ds)\n",
    "print(fb_ds['Review Text'].iloc[0],\"\\n\")                                       # Used \"\\n\" for new line\n",
    "print(fb_ds['Review Text'].iloc[1],\"\\n\")\n",
    "print(fb_ds['Review Text'].iloc[2],\"\\n\")\n",
    "print(fb_ds['Review Text'].iloc[3],\"\\n\")\n",
    "print(fb_ds['Review Text'].iloc[4],\"\\n\")"
   ]
  },
  {
   "cell_type": "code",
   "execution_count": null,
   "metadata": {
    "colab": {
     "base_uri": "https://localhost:8080/"
    },
    "id": "SglGRJKbGucs",
    "outputId": "89bf1dc7-925f-431c-d5cf-188cc625a5bf"
   },
   "outputs": [
    {
     "name": "stdout",
     "output_type": "stream",
     "text": [
      "<class 'pandas.core.frame.DataFrame'>\n",
      "Int64Index: 9346 entries, 0 to 10976\n",
      "Data columns (total 1 columns):\n",
      " #   Column       Non-Null Count  Dtype \n",
      "---  ------       --------------  ----- \n",
      " 0   Review Text  9346 non-null   object\n",
      "dtypes: object(1)\n",
      "memory usage: 146.0+ KB\n"
     ]
    }
   ],
   "source": [
    "# To check updated information of the column\n",
    "fb_ds.info()"
   ]
  },
  {
   "cell_type": "markdown",
   "metadata": {
    "id": "Ik7Qzwg9T1GB"
   },
   "source": [
    "\n",
    "**Polarity Of Data**\n",
    "\n",
    "For sentiment analysis it is important to understand the emotions of the text and to make machine understand that NLP libraries are available which helps in assigning the polarity to the text. Thus, using TextBlob library polarities are assigned to the text and on basis of that text is distributed into different sentiments."
   ]
  },
  {
   "cell_type": "code",
   "execution_count": null,
   "metadata": {
    "id": "dOZ2SXobTvgs"
   },
   "outputs": [],
   "source": [
    "# Define a function to calculate the polarity of the data using text blob\n",
    "def ds_polarity(text):\n",
    "  return TextBlob(text).sentiment.polarity"
   ]
  },
  {
   "cell_type": "code",
   "execution_count": null,
   "metadata": {
    "colab": {
     "base_uri": "https://localhost:8080/",
     "height": 363
    },
    "id": "mzCiz_XSTvuV",
    "outputId": "a369e6a6-16bb-4ddf-83fe-c022678ef14b"
   },
   "outputs": [
    {
     "data": {
      "text/html": [
       "\n",
       "  <div id=\"df-0ab0f694-c25f-468c-8222-8d6da7c56c98\">\n",
       "    <div class=\"colab-df-container\">\n",
       "      <div>\n",
       "<style scoped>\n",
       "    .dataframe tbody tr th:only-of-type {\n",
       "        vertical-align: middle;\n",
       "    }\n",
       "\n",
       "    .dataframe tbody tr th {\n",
       "        vertical-align: top;\n",
       "    }\n",
       "\n",
       "    .dataframe thead th {\n",
       "        text-align: right;\n",
       "    }\n",
       "</style>\n",
       "<table border=\"1\" class=\"dataframe\">\n",
       "  <thead>\n",
       "    <tr style=\"text-align: right;\">\n",
       "      <th></th>\n",
       "      <th>Review Text</th>\n",
       "      <th>polarity</th>\n",
       "    </tr>\n",
       "  </thead>\n",
       "  <tbody>\n",
       "    <tr>\n",
       "      <th>0</th>\n",
       "      <td>love echo dot</td>\n",
       "      <td>0.500000</td>\n",
       "    </tr>\n",
       "    <tr>\n",
       "      <th>1</th>\n",
       "      <td>work fine</td>\n",
       "      <td>0.416667</td>\n",
       "    </tr>\n",
       "    <tr>\n",
       "      <th>3</th>\n",
       "      <td>great speaker</td>\n",
       "      <td>0.800000</td>\n",
       "    </tr>\n",
       "    <tr>\n",
       "      <th>4</th>\n",
       "      <td>great assist</td>\n",
       "      <td>0.800000</td>\n",
       "    </tr>\n",
       "    <tr>\n",
       "      <th>5</th>\n",
       "      <td>work like charm</td>\n",
       "      <td>0.000000</td>\n",
       "    </tr>\n",
       "    <tr>\n",
       "      <th>6</th>\n",
       "      <td>great littl gagit</td>\n",
       "      <td>0.800000</td>\n",
       "    </tr>\n",
       "    <tr>\n",
       "      <th>7</th>\n",
       "      <td>need work</td>\n",
       "      <td>0.000000</td>\n",
       "    </tr>\n",
       "    <tr>\n",
       "      <th>8</th>\n",
       "      <td>neat littl helper</td>\n",
       "      <td>0.000000</td>\n",
       "    </tr>\n",
       "    <tr>\n",
       "      <th>9</th>\n",
       "      <td>need</td>\n",
       "      <td>0.000000</td>\n",
       "    </tr>\n",
       "    <tr>\n",
       "      <th>10</th>\n",
       "      <td>still learn amaz</td>\n",
       "      <td>0.000000</td>\n",
       "    </tr>\n",
       "  </tbody>\n",
       "</table>\n",
       "</div>\n",
       "      <button class=\"colab-df-convert\" onclick=\"convertToInteractive('df-0ab0f694-c25f-468c-8222-8d6da7c56c98')\"\n",
       "              title=\"Convert this dataframe to an interactive table.\"\n",
       "              style=\"display:none;\">\n",
       "        \n",
       "  <svg xmlns=\"http://www.w3.org/2000/svg\" height=\"24px\"viewBox=\"0 0 24 24\"\n",
       "       width=\"24px\">\n",
       "    <path d=\"M0 0h24v24H0V0z\" fill=\"none\"/>\n",
       "    <path d=\"M18.56 5.44l.94 2.06.94-2.06 2.06-.94-2.06-.94-.94-2.06-.94 2.06-2.06.94zm-11 1L8.5 8.5l.94-2.06 2.06-.94-2.06-.94L8.5 2.5l-.94 2.06-2.06.94zm10 10l.94 2.06.94-2.06 2.06-.94-2.06-.94-.94-2.06-.94 2.06-2.06.94z\"/><path d=\"M17.41 7.96l-1.37-1.37c-.4-.4-.92-.59-1.43-.59-.52 0-1.04.2-1.43.59L10.3 9.45l-7.72 7.72c-.78.78-.78 2.05 0 2.83L4 21.41c.39.39.9.59 1.41.59.51 0 1.02-.2 1.41-.59l7.78-7.78 2.81-2.81c.8-.78.8-2.07 0-2.86zM5.41 20L4 18.59l7.72-7.72 1.47 1.35L5.41 20z\"/>\n",
       "  </svg>\n",
       "      </button>\n",
       "      \n",
       "  <style>\n",
       "    .colab-df-container {\n",
       "      display:flex;\n",
       "      flex-wrap:wrap;\n",
       "      gap: 12px;\n",
       "    }\n",
       "\n",
       "    .colab-df-convert {\n",
       "      background-color: #E8F0FE;\n",
       "      border: none;\n",
       "      border-radius: 50%;\n",
       "      cursor: pointer;\n",
       "      display: none;\n",
       "      fill: #1967D2;\n",
       "      height: 32px;\n",
       "      padding: 0 0 0 0;\n",
       "      width: 32px;\n",
       "    }\n",
       "\n",
       "    .colab-df-convert:hover {\n",
       "      background-color: #E2EBFA;\n",
       "      box-shadow: 0px 1px 2px rgba(60, 64, 67, 0.3), 0px 1px 3px 1px rgba(60, 64, 67, 0.15);\n",
       "      fill: #174EA6;\n",
       "    }\n",
       "\n",
       "    [theme=dark] .colab-df-convert {\n",
       "      background-color: #3B4455;\n",
       "      fill: #D2E3FC;\n",
       "    }\n",
       "\n",
       "    [theme=dark] .colab-df-convert:hover {\n",
       "      background-color: #434B5C;\n",
       "      box-shadow: 0px 1px 3px 1px rgba(0, 0, 0, 0.15);\n",
       "      filter: drop-shadow(0px 1px 2px rgba(0, 0, 0, 0.3));\n",
       "      fill: #FFFFFF;\n",
       "    }\n",
       "  </style>\n",
       "\n",
       "      <script>\n",
       "        const buttonEl =\n",
       "          document.querySelector('#df-0ab0f694-c25f-468c-8222-8d6da7c56c98 button.colab-df-convert');\n",
       "        buttonEl.style.display =\n",
       "          google.colab.kernel.accessAllowed ? 'block' : 'none';\n",
       "\n",
       "        async function convertToInteractive(key) {\n",
       "          const element = document.querySelector('#df-0ab0f694-c25f-468c-8222-8d6da7c56c98');\n",
       "          const dataTable =\n",
       "            await google.colab.kernel.invokeFunction('convertToInteractive',\n",
       "                                                     [key], {});\n",
       "          if (!dataTable) return;\n",
       "\n",
       "          const docLinkHtml = 'Like what you see? Visit the ' +\n",
       "            '<a target=\"_blank\" href=https://colab.research.google.com/notebooks/data_table.ipynb>data table notebook</a>'\n",
       "            + ' to learn more about interactive tables.';\n",
       "          element.innerHTML = '';\n",
       "          dataTable['output_type'] = 'display_data';\n",
       "          await google.colab.output.renderOutput(dataTable, element);\n",
       "          const docLink = document.createElement('div');\n",
       "          docLink.innerHTML = docLinkHtml;\n",
       "          element.appendChild(docLink);\n",
       "        }\n",
       "      </script>\n",
       "    </div>\n",
       "  </div>\n",
       "  "
      ],
      "text/plain": [
       "          Review Text  polarity\n",
       "0       love echo dot  0.500000\n",
       "1           work fine  0.416667\n",
       "3       great speaker  0.800000\n",
       "4        great assist  0.800000\n",
       "5     work like charm  0.000000\n",
       "6   great littl gagit  0.800000\n",
       "7           need work  0.000000\n",
       "8   neat littl helper  0.000000\n",
       "9                need  0.000000\n",
       "10   still learn amaz  0.000000"
      ]
     },
     "execution_count": 18,
     "metadata": {},
     "output_type": "execute_result"
    }
   ],
   "source": [
    "# To apply the polarity function on the dataframe\n",
    "fb_ds['polarity'] = fb_ds['Review Text'].apply(ds_polarity)\n",
    "fb_ds.head(10)                                                                  # To display the data using head function"
   ]
  },
  {
   "cell_type": "code",
   "execution_count": null,
   "metadata": {
    "id": "PD14E9-vG1NT"
   },
   "outputs": [],
   "source": [
    "# To add sentiment column to the dataframe\n",
    "\n",
    "# Define a function to calculate the sentiment\n",
    "def ds_sentiment(label):\n",
    "  if label <0:\n",
    "    return \"Negative\"\n",
    "  elif label ==0:\n",
    "      return \"Neutral\"\n",
    "  elif label >0:\n",
    "      return \"Positive\""
   ]
  },
  {
   "cell_type": "code",
   "execution_count": null,
   "metadata": {
    "colab": {
     "base_uri": "https://localhost:8080/",
     "height": 363
    },
    "id": "ju1XYSbIG3n0",
    "outputId": "761cca07-9bef-4aae-b643-68ca32ac5994"
   },
   "outputs": [
    {
     "data": {
      "text/html": [
       "\n",
       "  <div id=\"df-8b38ddf5-18ea-4119-8c4b-c027b08d14b5\">\n",
       "    <div class=\"colab-df-container\">\n",
       "      <div>\n",
       "<style scoped>\n",
       "    .dataframe tbody tr th:only-of-type {\n",
       "        vertical-align: middle;\n",
       "    }\n",
       "\n",
       "    .dataframe tbody tr th {\n",
       "        vertical-align: top;\n",
       "    }\n",
       "\n",
       "    .dataframe thead th {\n",
       "        text-align: right;\n",
       "    }\n",
       "</style>\n",
       "<table border=\"1\" class=\"dataframe\">\n",
       "  <thead>\n",
       "    <tr style=\"text-align: right;\">\n",
       "      <th></th>\n",
       "      <th>Review Text</th>\n",
       "      <th>polarity</th>\n",
       "      <th>sentiment</th>\n",
       "    </tr>\n",
       "  </thead>\n",
       "  <tbody>\n",
       "    <tr>\n",
       "      <th>0</th>\n",
       "      <td>love echo dot</td>\n",
       "      <td>0.500000</td>\n",
       "      <td>Positive</td>\n",
       "    </tr>\n",
       "    <tr>\n",
       "      <th>1</th>\n",
       "      <td>work fine</td>\n",
       "      <td>0.416667</td>\n",
       "      <td>Positive</td>\n",
       "    </tr>\n",
       "    <tr>\n",
       "      <th>3</th>\n",
       "      <td>great speaker</td>\n",
       "      <td>0.800000</td>\n",
       "      <td>Positive</td>\n",
       "    </tr>\n",
       "    <tr>\n",
       "      <th>4</th>\n",
       "      <td>great assist</td>\n",
       "      <td>0.800000</td>\n",
       "      <td>Positive</td>\n",
       "    </tr>\n",
       "    <tr>\n",
       "      <th>5</th>\n",
       "      <td>work like charm</td>\n",
       "      <td>0.000000</td>\n",
       "      <td>Neutral</td>\n",
       "    </tr>\n",
       "    <tr>\n",
       "      <th>6</th>\n",
       "      <td>great littl gagit</td>\n",
       "      <td>0.800000</td>\n",
       "      <td>Positive</td>\n",
       "    </tr>\n",
       "    <tr>\n",
       "      <th>7</th>\n",
       "      <td>need work</td>\n",
       "      <td>0.000000</td>\n",
       "      <td>Neutral</td>\n",
       "    </tr>\n",
       "    <tr>\n",
       "      <th>8</th>\n",
       "      <td>neat littl helper</td>\n",
       "      <td>0.000000</td>\n",
       "      <td>Neutral</td>\n",
       "    </tr>\n",
       "    <tr>\n",
       "      <th>9</th>\n",
       "      <td>need</td>\n",
       "      <td>0.000000</td>\n",
       "      <td>Neutral</td>\n",
       "    </tr>\n",
       "    <tr>\n",
       "      <th>10</th>\n",
       "      <td>still learn amaz</td>\n",
       "      <td>0.000000</td>\n",
       "      <td>Neutral</td>\n",
       "    </tr>\n",
       "  </tbody>\n",
       "</table>\n",
       "</div>\n",
       "      <button class=\"colab-df-convert\" onclick=\"convertToInteractive('df-8b38ddf5-18ea-4119-8c4b-c027b08d14b5')\"\n",
       "              title=\"Convert this dataframe to an interactive table.\"\n",
       "              style=\"display:none;\">\n",
       "        \n",
       "  <svg xmlns=\"http://www.w3.org/2000/svg\" height=\"24px\"viewBox=\"0 0 24 24\"\n",
       "       width=\"24px\">\n",
       "    <path d=\"M0 0h24v24H0V0z\" fill=\"none\"/>\n",
       "    <path d=\"M18.56 5.44l.94 2.06.94-2.06 2.06-.94-2.06-.94-.94-2.06-.94 2.06-2.06.94zm-11 1L8.5 8.5l.94-2.06 2.06-.94-2.06-.94L8.5 2.5l-.94 2.06-2.06.94zm10 10l.94 2.06.94-2.06 2.06-.94-2.06-.94-.94-2.06-.94 2.06-2.06.94z\"/><path d=\"M17.41 7.96l-1.37-1.37c-.4-.4-.92-.59-1.43-.59-.52 0-1.04.2-1.43.59L10.3 9.45l-7.72 7.72c-.78.78-.78 2.05 0 2.83L4 21.41c.39.39.9.59 1.41.59.51 0 1.02-.2 1.41-.59l7.78-7.78 2.81-2.81c.8-.78.8-2.07 0-2.86zM5.41 20L4 18.59l7.72-7.72 1.47 1.35L5.41 20z\"/>\n",
       "  </svg>\n",
       "      </button>\n",
       "      \n",
       "  <style>\n",
       "    .colab-df-container {\n",
       "      display:flex;\n",
       "      flex-wrap:wrap;\n",
       "      gap: 12px;\n",
       "    }\n",
       "\n",
       "    .colab-df-convert {\n",
       "      background-color: #E8F0FE;\n",
       "      border: none;\n",
       "      border-radius: 50%;\n",
       "      cursor: pointer;\n",
       "      display: none;\n",
       "      fill: #1967D2;\n",
       "      height: 32px;\n",
       "      padding: 0 0 0 0;\n",
       "      width: 32px;\n",
       "    }\n",
       "\n",
       "    .colab-df-convert:hover {\n",
       "      background-color: #E2EBFA;\n",
       "      box-shadow: 0px 1px 2px rgba(60, 64, 67, 0.3), 0px 1px 3px 1px rgba(60, 64, 67, 0.15);\n",
       "      fill: #174EA6;\n",
       "    }\n",
       "\n",
       "    [theme=dark] .colab-df-convert {\n",
       "      background-color: #3B4455;\n",
       "      fill: #D2E3FC;\n",
       "    }\n",
       "\n",
       "    [theme=dark] .colab-df-convert:hover {\n",
       "      background-color: #434B5C;\n",
       "      box-shadow: 0px 1px 3px 1px rgba(0, 0, 0, 0.15);\n",
       "      filter: drop-shadow(0px 1px 2px rgba(0, 0, 0, 0.3));\n",
       "      fill: #FFFFFF;\n",
       "    }\n",
       "  </style>\n",
       "\n",
       "      <script>\n",
       "        const buttonEl =\n",
       "          document.querySelector('#df-8b38ddf5-18ea-4119-8c4b-c027b08d14b5 button.colab-df-convert');\n",
       "        buttonEl.style.display =\n",
       "          google.colab.kernel.accessAllowed ? 'block' : 'none';\n",
       "\n",
       "        async function convertToInteractive(key) {\n",
       "          const element = document.querySelector('#df-8b38ddf5-18ea-4119-8c4b-c027b08d14b5');\n",
       "          const dataTable =\n",
       "            await google.colab.kernel.invokeFunction('convertToInteractive',\n",
       "                                                     [key], {});\n",
       "          if (!dataTable) return;\n",
       "\n",
       "          const docLinkHtml = 'Like what you see? Visit the ' +\n",
       "            '<a target=\"_blank\" href=https://colab.research.google.com/notebooks/data_table.ipynb>data table notebook</a>'\n",
       "            + ' to learn more about interactive tables.';\n",
       "          element.innerHTML = '';\n",
       "          dataTable['output_type'] = 'display_data';\n",
       "          await google.colab.output.renderOutput(dataTable, element);\n",
       "          const docLink = document.createElement('div');\n",
       "          docLink.innerHTML = docLinkHtml;\n",
       "          element.appendChild(docLink);\n",
       "        }\n",
       "      </script>\n",
       "    </div>\n",
       "  </div>\n",
       "  "
      ],
      "text/plain": [
       "          Review Text  polarity sentiment\n",
       "0       love echo dot  0.500000  Positive\n",
       "1           work fine  0.416667  Positive\n",
       "3       great speaker  0.800000  Positive\n",
       "4        great assist  0.800000  Positive\n",
       "5     work like charm  0.000000   Neutral\n",
       "6   great littl gagit  0.800000  Positive\n",
       "7           need work  0.000000   Neutral\n",
       "8   neat littl helper  0.000000   Neutral\n",
       "9                need  0.000000   Neutral\n",
       "10   still learn amaz  0.000000   Neutral"
      ]
     },
     "execution_count": 20,
     "metadata": {},
     "output_type": "execute_result"
    }
   ],
   "source": [
    "# To apply the sentiment function to the dataframe\n",
    "fb_ds['sentiment'] = fb_ds['polarity'].apply(ds_sentiment)\n",
    "fb_ds.head(10)                                                                    # Display to check the implementation of the sentiment function"
   ]
  },
  {
   "cell_type": "code",
   "execution_count": null,
   "metadata": {
    "colab": {
     "base_uri": "https://localhost:8080/"
    },
    "id": "9-q63G-vG5sj",
    "outputId": "8abc6cc7-294e-4ab0-e940-a035053d0f55"
   },
   "outputs": [
    {
     "name": "stdout",
     "output_type": "stream",
     "text": [
      "0\n",
      "0\n"
     ]
    }
   ],
   "source": [
    "# Code to check missing values in the \"Review Text\" column of the dataframe\n",
    "print(fb_ds['Review Text'].isna().sum())\n",
    "print(fb_ds['sentiment'].isna().sum())"
   ]
  },
  {
   "cell_type": "code",
   "execution_count": null,
   "metadata": {
    "id": "twfmgo7hG6VC"
   },
   "outputs": [],
   "source": [
    "# Code to drop the missing values from the column\n",
    "fb_ds = fb_ds.dropna(subset=['Review Text'])\n",
    "fb_ds = fb_ds.dropna(subset=['sentiment'])"
   ]
  },
  {
   "cell_type": "markdown",
   "metadata": {
    "id": "VOZG4PyaUMm1"
   },
   "source": [
    "**Visualization**\n",
    "\n",
    "Under this section the data is visualized by using bar-plot and pie-chart to understand the available dataset. The visualization has depicted the dataset is imbalanced as large proportion belongs to positive analysis."
   ]
  },
  {
   "cell_type": "code",
   "execution_count": null,
   "metadata": {
    "colab": {
     "base_uri": "https://localhost:8080/",
     "height": 623
    },
    "id": "qfE9euzTTvvP",
    "outputId": "5f5d4af4-0a41-4061-bdee-a9d647f140ce"
   },
   "outputs": [],
   "source": [
    "# To visualize the data in the countplot\n",
    "ds_fig = plt.figure(figsize=(7,7))                                              # To create a figure with a specified size\n",
    "sns.countplot(x='sentiment', data = fb_ds)                                      # To create a countplot of the 'sentiment' column in the dataframe\n",
    "plt.show()                                                                      # To display the plot"
   ]
  },
  {
   "cell_type": "code",
   "execution_count": null,
   "metadata": {
    "colab": {
     "base_uri": "https://localhost:8080/",
     "height": 599
    },
    "id": "Qb6XMGEWUYNe",
    "outputId": "64a879cb-ee21-4a5d-e4de-bef5940fcc3e"
   },
   "outputs": [],
   "source": [
    "# To represent the data in a pie chart\n",
    "ds_fig = plt.figure(figsize=(7,7))                                              # To create a figure of specific size\n",
    "ds_colors = (\"green\", \"orange\", \"red\")                                          # To set different colors for the sentiments\n",
    "ds_wp = {'linewidth':1, 'edgecolor': \"white\"}                                   # To define line width and edge color\n",
    "tags = fb_ds['sentiment'].value_counts()                                        # To specify value of different sentiments in the chart\n",
    "explode = (0.05,0.05,0.05)                                                      # To provide seperation between different divisons for better visuality\n",
    "tags.plot(kind='pie', autopct='%1.1f%%', shadow= True, colors= ds_colors,\n",
    "          startangle=90, wedgeprops = ds_wp, explode = explode, label='')       # For implementation of the defined input on the chart\n",
    "plt.title('Distribution of sentiments')                                         # To provide heading to the chart\n",
    "plt.show()                                                                      # To display the plot"
   ]
  },
  {
   "cell_type": "markdown",
   "metadata": {
    "id": "OKiya6XDppAY"
   },
   "source": [
    "**Analysis of reviews from different sentiment section**\n",
    "In this section it is tried to expressed the different kind of words that are there in different sentiments and those are expressed using word-cloud so that we can identify difference in different sentiments.\n"
   ]
  },
  {
   "cell_type": "code",
   "execution_count": null,
   "metadata": {
    "colab": {
     "base_uri": "https://localhost:8080/",
     "height": 206
    },
    "id": "6BxIOqRWUb4E",
    "outputId": "7defd1da-eff2-4c76-81db-78d3548cf3da"
   },
   "outputs": [
    {
     "data": {
      "text/html": [
       "\n",
       "  <div id=\"df-dcdbc1cf-2b9d-4873-9e25-c673bf32041d\">\n",
       "    <div class=\"colab-df-container\">\n",
       "      <div>\n",
       "<style scoped>\n",
       "    .dataframe tbody tr th:only-of-type {\n",
       "        vertical-align: middle;\n",
       "    }\n",
       "\n",
       "    .dataframe tbody tr th {\n",
       "        vertical-align: top;\n",
       "    }\n",
       "\n",
       "    .dataframe thead th {\n",
       "        text-align: right;\n",
       "    }\n",
       "</style>\n",
       "<table border=\"1\" class=\"dataframe\">\n",
       "  <thead>\n",
       "    <tr style=\"text-align: right;\">\n",
       "      <th></th>\n",
       "      <th>Review Text</th>\n",
       "      <th>polarity</th>\n",
       "      <th>sentiment</th>\n",
       "    </tr>\n",
       "  </thead>\n",
       "  <tbody>\n",
       "    <tr>\n",
       "      <th>5124</th>\n",
       "      <td>want listen podcast perfect</td>\n",
       "      <td>1.0</td>\n",
       "      <td>Positive</td>\n",
       "    </tr>\n",
       "    <tr>\n",
       "      <th>8475</th>\n",
       "      <td>perfect hook audio system get voicecontrol mus...</td>\n",
       "      <td>1.0</td>\n",
       "      <td>Positive</td>\n",
       "    </tr>\n",
       "    <tr>\n",
       "      <th>8275</th>\n",
       "      <td>probabl best version echoalexa</td>\n",
       "      <td>1.0</td>\n",
       "      <td>Positive</td>\n",
       "    </tr>\n",
       "    <tr>\n",
       "      <th>1246</th>\n",
       "      <td>perfect apart easi instal use</td>\n",
       "      <td>1.0</td>\n",
       "      <td>Positive</td>\n",
       "    </tr>\n",
       "    <tr>\n",
       "      <th>5151</th>\n",
       "      <td>best amazon devic ive ever bought use play mus...</td>\n",
       "      <td>1.0</td>\n",
       "      <td>Positive</td>\n",
       "    </tr>\n",
       "  </tbody>\n",
       "</table>\n",
       "</div>\n",
       "      <button class=\"colab-df-convert\" onclick=\"convertToInteractive('df-dcdbc1cf-2b9d-4873-9e25-c673bf32041d')\"\n",
       "              title=\"Convert this dataframe to an interactive table.\"\n",
       "              style=\"display:none;\">\n",
       "        \n",
       "  <svg xmlns=\"http://www.w3.org/2000/svg\" height=\"24px\"viewBox=\"0 0 24 24\"\n",
       "       width=\"24px\">\n",
       "    <path d=\"M0 0h24v24H0V0z\" fill=\"none\"/>\n",
       "    <path d=\"M18.56 5.44l.94 2.06.94-2.06 2.06-.94-2.06-.94-.94-2.06-.94 2.06-2.06.94zm-11 1L8.5 8.5l.94-2.06 2.06-.94-2.06-.94L8.5 2.5l-.94 2.06-2.06.94zm10 10l.94 2.06.94-2.06 2.06-.94-2.06-.94-.94-2.06-.94 2.06-2.06.94z\"/><path d=\"M17.41 7.96l-1.37-1.37c-.4-.4-.92-.59-1.43-.59-.52 0-1.04.2-1.43.59L10.3 9.45l-7.72 7.72c-.78.78-.78 2.05 0 2.83L4 21.41c.39.39.9.59 1.41.59.51 0 1.02-.2 1.41-.59l7.78-7.78 2.81-2.81c.8-.78.8-2.07 0-2.86zM5.41 20L4 18.59l7.72-7.72 1.47 1.35L5.41 20z\"/>\n",
       "  </svg>\n",
       "      </button>\n",
       "      \n",
       "  <style>\n",
       "    .colab-df-container {\n",
       "      display:flex;\n",
       "      flex-wrap:wrap;\n",
       "      gap: 12px;\n",
       "    }\n",
       "\n",
       "    .colab-df-convert {\n",
       "      background-color: #E8F0FE;\n",
       "      border: none;\n",
       "      border-radius: 50%;\n",
       "      cursor: pointer;\n",
       "      display: none;\n",
       "      fill: #1967D2;\n",
       "      height: 32px;\n",
       "      padding: 0 0 0 0;\n",
       "      width: 32px;\n",
       "    }\n",
       "\n",
       "    .colab-df-convert:hover {\n",
       "      background-color: #E2EBFA;\n",
       "      box-shadow: 0px 1px 2px rgba(60, 64, 67, 0.3), 0px 1px 3px 1px rgba(60, 64, 67, 0.15);\n",
       "      fill: #174EA6;\n",
       "    }\n",
       "\n",
       "    [theme=dark] .colab-df-convert {\n",
       "      background-color: #3B4455;\n",
       "      fill: #D2E3FC;\n",
       "    }\n",
       "\n",
       "    [theme=dark] .colab-df-convert:hover {\n",
       "      background-color: #434B5C;\n",
       "      box-shadow: 0px 1px 3px 1px rgba(0, 0, 0, 0.15);\n",
       "      filter: drop-shadow(0px 1px 2px rgba(0, 0, 0, 0.3));\n",
       "      fill: #FFFFFF;\n",
       "    }\n",
       "  </style>\n",
       "\n",
       "      <script>\n",
       "        const buttonEl =\n",
       "          document.querySelector('#df-dcdbc1cf-2b9d-4873-9e25-c673bf32041d button.colab-df-convert');\n",
       "        buttonEl.style.display =\n",
       "          google.colab.kernel.accessAllowed ? 'block' : 'none';\n",
       "\n",
       "        async function convertToInteractive(key) {\n",
       "          const element = document.querySelector('#df-dcdbc1cf-2b9d-4873-9e25-c673bf32041d');\n",
       "          const dataTable =\n",
       "            await google.colab.kernel.invokeFunction('convertToInteractive',\n",
       "                                                     [key], {});\n",
       "          if (!dataTable) return;\n",
       "\n",
       "          const docLinkHtml = 'Like what you see? Visit the ' +\n",
       "            '<a target=\"_blank\" href=https://colab.research.google.com/notebooks/data_table.ipynb>data table notebook</a>'\n",
       "            + ' to learn more about interactive tables.';\n",
       "          element.innerHTML = '';\n",
       "          dataTable['output_type'] = 'display_data';\n",
       "          await google.colab.output.renderOutput(dataTable, element);\n",
       "          const docLink = document.createElement('div');\n",
       "          docLink.innerHTML = docLinkHtml;\n",
       "          element.appendChild(docLink);\n",
       "        }\n",
       "      </script>\n",
       "    </div>\n",
       "  </div>\n",
       "  "
      ],
      "text/plain": [
       "                                            Review Text  polarity sentiment\n",
       "5124                        want listen podcast perfect       1.0  Positive\n",
       "8475  perfect hook audio system get voicecontrol mus...       1.0  Positive\n",
       "8275                     probabl best version echoalexa       1.0  Positive\n",
       "1246                      perfect apart easi instal use       1.0  Positive\n",
       "5151  best amazon devic ive ever bought use play mus...       1.0  Positive"
      ]
     },
     "execution_count": 25,
     "metadata": {},
     "output_type": "execute_result"
    }
   ],
   "source": [
    "# For Positive Reviews\n",
    "pos_review = fb_ds[fb_ds.sentiment == 'Positive']                               # To select the rows where sentiment column is equal to positive\n",
    "pos_review = pos_review.sort_values(['polarity'], ascending= False)             # To sort the positive reviews in descending order of polarity scores\n",
    "pos_review.head()                                                               # To display the value using head function"
   ]
  },
  {
   "cell_type": "code",
   "execution_count": null,
   "metadata": {
    "colab": {
     "base_uri": "https://localhost:8080/",
     "height": 705
    },
    "id": "69NJTk1UUeoV",
    "outputId": "fa6ad9cc-229e-4ead-8189-063596288e02"
   },
   "outputs": [],
   "source": [
    "import wordcloud                                                                # Import wordcloud to visualize the word cloud of different words of different sentiments\n",
    "# Visualize words in all the positive reviews\n",
    "text = ' '.join([word for word in pos_review['Review Text']])                   # The words from positive reviews will be extracted and joined in a single string\n",
    "plt.figure(figsize = (16,16), facecolor='None')                                 # To specify the size of figure\n",
    "wordcloud = WordCloud(max_words=500, width=1600, height=800). generate(text)    # Height, width and limit of words for word cloud is specified here.\n",
    "                                                                                # Generate is called to generate the word cloud image\n",
    "plt.imshow(wordcloud, interpolation='bilinear')                                 # \"imshow\" to display the image\n",
    "plt.axis('off')                                                                 # To specify axis\n",
    "plt.title('Most frequent words in Positive Reviews', fontsize=20)               # To specify title and font size of the title"
   ]
  },
  {
   "cell_type": "code",
   "execution_count": null,
   "metadata": {
    "colab": {
     "base_uri": "https://localhost:8080/",
     "height": 206
    },
    "id": "THhJlvdHUf7R",
    "outputId": "2a8b64e6-9a98-4f8b-d8d1-9077a3577c3f"
   },
   "outputs": [
    {
     "data": {
      "text/html": [
       "\n",
       "  <div id=\"df-453d2677-1377-469c-968e-687a446a9024\">\n",
       "    <div class=\"colab-df-container\">\n",
       "      <div>\n",
       "<style scoped>\n",
       "    .dataframe tbody tr th:only-of-type {\n",
       "        vertical-align: middle;\n",
       "    }\n",
       "\n",
       "    .dataframe tbody tr th {\n",
       "        vertical-align: top;\n",
       "    }\n",
       "\n",
       "    .dataframe thead th {\n",
       "        text-align: right;\n",
       "    }\n",
       "</style>\n",
       "<table border=\"1\" class=\"dataframe\">\n",
       "  <thead>\n",
       "    <tr style=\"text-align: right;\">\n",
       "      <th></th>\n",
       "      <th>Review Text</th>\n",
       "      <th>polarity</th>\n",
       "      <th>sentiment</th>\n",
       "    </tr>\n",
       "  </thead>\n",
       "  <tbody>\n",
       "    <tr>\n",
       "      <th>554</th>\n",
       "      <td>get close sometim doesnt ask pandora mess ever...</td>\n",
       "      <td>-1.387779e-17</td>\n",
       "      <td>Negative</td>\n",
       "    </tr>\n",
       "    <tr>\n",
       "      <th>6979</th>\n",
       "      <td>husband realli enjoy echo purchas one two gift...</td>\n",
       "      <td>-2.777778e-03</td>\n",
       "      <td>Negative</td>\n",
       "    </tr>\n",
       "    <tr>\n",
       "      <th>5772</th>\n",
       "      <td>appar amazon appli filter content access 6 yea...</td>\n",
       "      <td>-4.166667e-03</td>\n",
       "      <td>Negative</td>\n",
       "    </tr>\n",
       "    <tr>\n",
       "      <th>3791</th>\n",
       "      <td>set go wellat tech savvi follow instruct well ...</td>\n",
       "      <td>-5.008418e-03</td>\n",
       "      <td>Negative</td>\n",
       "    </tr>\n",
       "    <tr>\n",
       "      <th>10891</th>\n",
       "      <td>dot great use listen book set timer host thing...</td>\n",
       "      <td>-6.666667e-03</td>\n",
       "      <td>Negative</td>\n",
       "    </tr>\n",
       "  </tbody>\n",
       "</table>\n",
       "</div>\n",
       "      <button class=\"colab-df-convert\" onclick=\"convertToInteractive('df-453d2677-1377-469c-968e-687a446a9024')\"\n",
       "              title=\"Convert this dataframe to an interactive table.\"\n",
       "              style=\"display:none;\">\n",
       "        \n",
       "  <svg xmlns=\"http://www.w3.org/2000/svg\" height=\"24px\"viewBox=\"0 0 24 24\"\n",
       "       width=\"24px\">\n",
       "    <path d=\"M0 0h24v24H0V0z\" fill=\"none\"/>\n",
       "    <path d=\"M18.56 5.44l.94 2.06.94-2.06 2.06-.94-2.06-.94-.94-2.06-.94 2.06-2.06.94zm-11 1L8.5 8.5l.94-2.06 2.06-.94-2.06-.94L8.5 2.5l-.94 2.06-2.06.94zm10 10l.94 2.06.94-2.06 2.06-.94-2.06-.94-.94-2.06-.94 2.06-2.06.94z\"/><path d=\"M17.41 7.96l-1.37-1.37c-.4-.4-.92-.59-1.43-.59-.52 0-1.04.2-1.43.59L10.3 9.45l-7.72 7.72c-.78.78-.78 2.05 0 2.83L4 21.41c.39.39.9.59 1.41.59.51 0 1.02-.2 1.41-.59l7.78-7.78 2.81-2.81c.8-.78.8-2.07 0-2.86zM5.41 20L4 18.59l7.72-7.72 1.47 1.35L5.41 20z\"/>\n",
       "  </svg>\n",
       "      </button>\n",
       "      \n",
       "  <style>\n",
       "    .colab-df-container {\n",
       "      display:flex;\n",
       "      flex-wrap:wrap;\n",
       "      gap: 12px;\n",
       "    }\n",
       "\n",
       "    .colab-df-convert {\n",
       "      background-color: #E8F0FE;\n",
       "      border: none;\n",
       "      border-radius: 50%;\n",
       "      cursor: pointer;\n",
       "      display: none;\n",
       "      fill: #1967D2;\n",
       "      height: 32px;\n",
       "      padding: 0 0 0 0;\n",
       "      width: 32px;\n",
       "    }\n",
       "\n",
       "    .colab-df-convert:hover {\n",
       "      background-color: #E2EBFA;\n",
       "      box-shadow: 0px 1px 2px rgba(60, 64, 67, 0.3), 0px 1px 3px 1px rgba(60, 64, 67, 0.15);\n",
       "      fill: #174EA6;\n",
       "    }\n",
       "\n",
       "    [theme=dark] .colab-df-convert {\n",
       "      background-color: #3B4455;\n",
       "      fill: #D2E3FC;\n",
       "    }\n",
       "\n",
       "    [theme=dark] .colab-df-convert:hover {\n",
       "      background-color: #434B5C;\n",
       "      box-shadow: 0px 1px 3px 1px rgba(0, 0, 0, 0.15);\n",
       "      filter: drop-shadow(0px 1px 2px rgba(0, 0, 0, 0.3));\n",
       "      fill: #FFFFFF;\n",
       "    }\n",
       "  </style>\n",
       "\n",
       "      <script>\n",
       "        const buttonEl =\n",
       "          document.querySelector('#df-453d2677-1377-469c-968e-687a446a9024 button.colab-df-convert');\n",
       "        buttonEl.style.display =\n",
       "          google.colab.kernel.accessAllowed ? 'block' : 'none';\n",
       "\n",
       "        async function convertToInteractive(key) {\n",
       "          const element = document.querySelector('#df-453d2677-1377-469c-968e-687a446a9024');\n",
       "          const dataTable =\n",
       "            await google.colab.kernel.invokeFunction('convertToInteractive',\n",
       "                                                     [key], {});\n",
       "          if (!dataTable) return;\n",
       "\n",
       "          const docLinkHtml = 'Like what you see? Visit the ' +\n",
       "            '<a target=\"_blank\" href=https://colab.research.google.com/notebooks/data_table.ipynb>data table notebook</a>'\n",
       "            + ' to learn more about interactive tables.';\n",
       "          element.innerHTML = '';\n",
       "          dataTable['output_type'] = 'display_data';\n",
       "          await google.colab.output.renderOutput(dataTable, element);\n",
       "          const docLink = document.createElement('div');\n",
       "          docLink.innerHTML = docLinkHtml;\n",
       "          element.appendChild(docLink);\n",
       "        }\n",
       "      </script>\n",
       "    </div>\n",
       "  </div>\n",
       "  "
      ],
      "text/plain": [
       "                                             Review Text      polarity  \\\n",
       "554    get close sometim doesnt ask pandora mess ever... -1.387779e-17   \n",
       "6979   husband realli enjoy echo purchas one two gift... -2.777778e-03   \n",
       "5772   appar amazon appli filter content access 6 yea... -4.166667e-03   \n",
       "3791   set go wellat tech savvi follow instruct well ... -5.008418e-03   \n",
       "10891  dot great use listen book set timer host thing... -6.666667e-03   \n",
       "\n",
       "      sentiment  \n",
       "554    Negative  \n",
       "6979   Negative  \n",
       "5772   Negative  \n",
       "3791   Negative  \n",
       "10891  Negative  "
      ]
     },
     "execution_count": 27,
     "metadata": {},
     "output_type": "execute_result"
    }
   ],
   "source": [
    "# For Negative Reviews\n",
    "neg_review = fb_ds[fb_ds.sentiment == 'Negative']                               # To select the rows where sentiment column is equal to negative\n",
    "neg_review = neg_review.sort_values(['polarity'], ascending= False)             # To sort the negative reviews in descending order of polarity scores\n",
    "neg_review.head()                                                               # To display the value using head function"
   ]
  },
  {
   "cell_type": "code",
   "execution_count": null,
   "metadata": {
    "colab": {
     "base_uri": "https://localhost:8080/",
     "height": 705
    },
    "id": "DhVNj3BAUjdz",
    "outputId": "37712e1d-20f3-4bf3-8021-cbb11219f604"
   },
   "outputs": [],
   "source": [
    "# Visualize words in all the negative reviews\n",
    "text = ' '.join([word for word in neg_review['Review Text']])                   # The words from negative reviews will be extracted and joined in a single string\n",
    "plt.figure(figsize = (16,16), facecolor='None')                                 # To specify the size of figure\n",
    "wordcloud = WordCloud(max_words=500, width=1600, height=800). generate(text)    # Height, width and limit of words for word cloud is specified here.\n",
    "                                                                                # Generate is called to generate the word cloud image\n",
    "plt.imshow(wordcloud, interpolation='bilinear')                                 # \"imshow\" to display the image\n",
    "plt.axis('off')                                                                 # To specify axis\n",
    "plt.title('Most frequent words in Negative Reviews', fontsize=20)               # To specify title and font size of the title"
   ]
  },
  {
   "cell_type": "code",
   "execution_count": null,
   "metadata": {
    "colab": {
     "base_uri": "https://localhost:8080/",
     "height": 206
    },
    "id": "6AU56xfVUm0C",
    "outputId": "379be282-eb43-4d65-b616-115f2f68461f"
   },
   "outputs": [
    {
     "data": {
      "text/html": [
       "\n",
       "  <div id=\"df-ee9b68ec-6063-44e0-9247-87c7745f3f05\">\n",
       "    <div class=\"colab-df-container\">\n",
       "      <div>\n",
       "<style scoped>\n",
       "    .dataframe tbody tr th:only-of-type {\n",
       "        vertical-align: middle;\n",
       "    }\n",
       "\n",
       "    .dataframe tbody tr th {\n",
       "        vertical-align: top;\n",
       "    }\n",
       "\n",
       "    .dataframe thead th {\n",
       "        text-align: right;\n",
       "    }\n",
       "</style>\n",
       "<table border=\"1\" class=\"dataframe\">\n",
       "  <thead>\n",
       "    <tr style=\"text-align: right;\">\n",
       "      <th></th>\n",
       "      <th>Review Text</th>\n",
       "      <th>polarity</th>\n",
       "      <th>sentiment</th>\n",
       "    </tr>\n",
       "  </thead>\n",
       "  <tbody>\n",
       "    <tr>\n",
       "      <th>5</th>\n",
       "      <td>work like charm</td>\n",
       "      <td>0.0</td>\n",
       "      <td>Neutral</td>\n",
       "    </tr>\n",
       "    <tr>\n",
       "      <th>7042</th>\n",
       "      <td>addict</td>\n",
       "      <td>0.0</td>\n",
       "      <td>Neutral</td>\n",
       "    </tr>\n",
       "    <tr>\n",
       "      <th>7135</th>\n",
       "      <td>must devic everi home system breez set even ea...</td>\n",
       "      <td>0.0</td>\n",
       "      <td>Neutral</td>\n",
       "    </tr>\n",
       "    <tr>\n",
       "      <th>7127</th>\n",
       "      <td>use portabl handi daili alarm check weather</td>\n",
       "      <td>0.0</td>\n",
       "      <td>Neutral</td>\n",
       "    </tr>\n",
       "    <tr>\n",
       "      <th>7108</th>\n",
       "      <td>gave christma present favorit gift year</td>\n",
       "      <td>0.0</td>\n",
       "      <td>Neutral</td>\n",
       "    </tr>\n",
       "  </tbody>\n",
       "</table>\n",
       "</div>\n",
       "      <button class=\"colab-df-convert\" onclick=\"convertToInteractive('df-ee9b68ec-6063-44e0-9247-87c7745f3f05')\"\n",
       "              title=\"Convert this dataframe to an interactive table.\"\n",
       "              style=\"display:none;\">\n",
       "        \n",
       "  <svg xmlns=\"http://www.w3.org/2000/svg\" height=\"24px\"viewBox=\"0 0 24 24\"\n",
       "       width=\"24px\">\n",
       "    <path d=\"M0 0h24v24H0V0z\" fill=\"none\"/>\n",
       "    <path d=\"M18.56 5.44l.94 2.06.94-2.06 2.06-.94-2.06-.94-.94-2.06-.94 2.06-2.06.94zm-11 1L8.5 8.5l.94-2.06 2.06-.94-2.06-.94L8.5 2.5l-.94 2.06-2.06.94zm10 10l.94 2.06.94-2.06 2.06-.94-2.06-.94-.94-2.06-.94 2.06-2.06.94z\"/><path d=\"M17.41 7.96l-1.37-1.37c-.4-.4-.92-.59-1.43-.59-.52 0-1.04.2-1.43.59L10.3 9.45l-7.72 7.72c-.78.78-.78 2.05 0 2.83L4 21.41c.39.39.9.59 1.41.59.51 0 1.02-.2 1.41-.59l7.78-7.78 2.81-2.81c.8-.78.8-2.07 0-2.86zM5.41 20L4 18.59l7.72-7.72 1.47 1.35L5.41 20z\"/>\n",
       "  </svg>\n",
       "      </button>\n",
       "      \n",
       "  <style>\n",
       "    .colab-df-container {\n",
       "      display:flex;\n",
       "      flex-wrap:wrap;\n",
       "      gap: 12px;\n",
       "    }\n",
       "\n",
       "    .colab-df-convert {\n",
       "      background-color: #E8F0FE;\n",
       "      border: none;\n",
       "      border-radius: 50%;\n",
       "      cursor: pointer;\n",
       "      display: none;\n",
       "      fill: #1967D2;\n",
       "      height: 32px;\n",
       "      padding: 0 0 0 0;\n",
       "      width: 32px;\n",
       "    }\n",
       "\n",
       "    .colab-df-convert:hover {\n",
       "      background-color: #E2EBFA;\n",
       "      box-shadow: 0px 1px 2px rgba(60, 64, 67, 0.3), 0px 1px 3px 1px rgba(60, 64, 67, 0.15);\n",
       "      fill: #174EA6;\n",
       "    }\n",
       "\n",
       "    [theme=dark] .colab-df-convert {\n",
       "      background-color: #3B4455;\n",
       "      fill: #D2E3FC;\n",
       "    }\n",
       "\n",
       "    [theme=dark] .colab-df-convert:hover {\n",
       "      background-color: #434B5C;\n",
       "      box-shadow: 0px 1px 3px 1px rgba(0, 0, 0, 0.15);\n",
       "      filter: drop-shadow(0px 1px 2px rgba(0, 0, 0, 0.3));\n",
       "      fill: #FFFFFF;\n",
       "    }\n",
       "  </style>\n",
       "\n",
       "      <script>\n",
       "        const buttonEl =\n",
       "          document.querySelector('#df-ee9b68ec-6063-44e0-9247-87c7745f3f05 button.colab-df-convert');\n",
       "        buttonEl.style.display =\n",
       "          google.colab.kernel.accessAllowed ? 'block' : 'none';\n",
       "\n",
       "        async function convertToInteractive(key) {\n",
       "          const element = document.querySelector('#df-ee9b68ec-6063-44e0-9247-87c7745f3f05');\n",
       "          const dataTable =\n",
       "            await google.colab.kernel.invokeFunction('convertToInteractive',\n",
       "                                                     [key], {});\n",
       "          if (!dataTable) return;\n",
       "\n",
       "          const docLinkHtml = 'Like what you see? Visit the ' +\n",
       "            '<a target=\"_blank\" href=https://colab.research.google.com/notebooks/data_table.ipynb>data table notebook</a>'\n",
       "            + ' to learn more about interactive tables.';\n",
       "          element.innerHTML = '';\n",
       "          dataTable['output_type'] = 'display_data';\n",
       "          await google.colab.output.renderOutput(dataTable, element);\n",
       "          const docLink = document.createElement('div');\n",
       "          docLink.innerHTML = docLinkHtml;\n",
       "          element.appendChild(docLink);\n",
       "        }\n",
       "      </script>\n",
       "    </div>\n",
       "  </div>\n",
       "  "
      ],
      "text/plain": [
       "                                            Review Text  polarity sentiment\n",
       "5                                       work like charm       0.0   Neutral\n",
       "7042                                             addict       0.0   Neutral\n",
       "7135  must devic everi home system breez set even ea...       0.0   Neutral\n",
       "7127        use portabl handi daili alarm check weather       0.0   Neutral\n",
       "7108            gave christma present favorit gift year       0.0   Neutral"
      ]
     },
     "execution_count": 29,
     "metadata": {},
     "output_type": "execute_result"
    }
   ],
   "source": [
    "# For Neutral Reviews\n",
    "neu_review = fb_ds[fb_ds.sentiment == 'Neutral']                                # To select the rows where sentiment column is equal to neutral\n",
    "neu_review = neu_review.sort_values(['polarity'], ascending= False)             # To sort the neutral reviews in descending order of polarity scores\n",
    "neu_review.head()                                                               # To display the value using head function"
   ]
  },
  {
   "cell_type": "code",
   "execution_count": null,
   "metadata": {
    "colab": {
     "base_uri": "https://localhost:8080/",
     "height": 705
    },
    "id": "xad6cnx6UqB3",
    "outputId": "f6802840-ffc9-4c12-b88e-1a4a93d5f380"
   },
   "outputs": [],
   "source": [
    "# Visualize words in all the negative reviews\n",
    "text = ' '.join([word for word in neu_review['Review Text']])                   # The words from neutarl reviews will be extracted and joined in a single string\n",
    "plt.figure(figsize = (16,16), facecolor='None')                                 # To specify the size of figure\n",
    "wordcloud = WordCloud(max_words=500, width=1600, height=800). generate(text)    # Height, width and limit of words for word cloud is specified here.\n",
    "                                                                                # Generate is called to generate the word cloud image\n",
    "plt.imshow(wordcloud, interpolation='bilinear')                                 # \"imshow\" to display the image\n",
    "plt.axis('off')                                                                 # To specify axis\n",
    "plt.title('Most frequent words in Neutral Reviews', fontsize=20)                # To specify title and font size of the title"
   ]
  },
  {
   "cell_type": "code",
   "execution_count": null,
   "metadata": {
    "id": "43DC2_WwSyRa"
   },
   "outputs": [],
   "source": [
    "# To remove warnings error use filter warning\n",
    "import warnings\n",
    "warnings.filterwarnings('ignore')"
   ]
  },
  {
   "cell_type": "markdown",
   "metadata": {
    "id": "EPMcHEP6p53Q"
   },
   "source": [
    "**Implementation of Latent Dirichlet Allocation (LDA):**\n",
    "\n",
    "LDA is a popular approach for Topic modelling that considers text as a set of topics and topics as a set of words. This approach will help in extracting the area for product improvement.\n",
    "\n",
    "Here after getting insights from word-cloud image of the negative words, the different topics that is a set of different words are extracted along with their frequency.\n",
    "On basis of that frequency comparison analysis are made and it is stated that improvement in connectivity is a reliable improvement that will improve the quality of the product and along with that improvement in qulity of speaker can also be made."
   ]
  },
  {
   "cell_type": "code",
   "execution_count": null,
   "metadata": {
    "colab": {
     "base_uri": "https://localhost:8080/"
    },
    "id": "YQW2FYzdPN4m",
    "outputId": "ba444dbd-53f1-41d8-f8d7-fc4e4f449d47"
   },
   "outputs": [
    {
     "name": "stdout",
     "output_type": "stream",
     "text": [
      "Topic: 0 \n",
      "Words: 0.014*\"amazon\" + 0.012*\"music\" + 0.012*\"work\" + 0.009*\"ask\" + 0.008*\"return\" + 0.008*\"question\" + 0.008*\"echo\" + 0.008*\"one\" + 0.008*\"thing\" + 0.007*\"answer\"\n",
      "Topic: 1 \n",
      "Words: 0.015*\"amazon\" + 0.014*\"get\" + 0.013*\"use\" + 0.011*\"ask\" + 0.011*\"alexa\" + 0.011*\"devic\" + 0.011*\"like\" + 0.010*\"would\" + 0.010*\"work\" + 0.010*\"dot\"\n",
      "Topic: 2 \n",
      "Words: 0.017*\"alexa\" + 0.013*\"wifi\" + 0.012*\"question\" + 0.011*\"devic\" + 0.010*\"dot\" + 0.010*\"time\" + 0.009*\"one\" + 0.008*\"understand\" + 0.008*\"even\" + 0.007*\"answer\"\n",
      "Topic: 3 \n",
      "Words: 0.019*\"like\" + 0.014*\"use\" + 0.012*\"alexa\" + 0.011*\"play\" + 0.009*\"sometim\" + 0.009*\"thing\" + 0.009*\"time\" + 0.009*\"amazon\" + 0.009*\"work\" + 0.008*\"game\"\n",
      "Topic: 4 \n",
      "Words: 0.020*\"work\" + 0.018*\"speaker\" + 0.017*\"echo\" + 0.015*\"alexa\" + 0.012*\"connect\" + 0.010*\"dot\" + 0.009*\"time\" + 0.009*\"use\" + 0.009*\"hard\" + 0.008*\"like\"\n",
      "Topic: 5 \n",
      "Words: 0.028*\"dot\" + 0.027*\"echo\" + 0.017*\"music\" + 0.014*\"one\" + 0.013*\"play\" + 0.013*\"amazon\" + 0.011*\"use\" + 0.010*\"alexa\" + 0.009*\"get\" + 0.008*\"like\"\n",
      "Topic: 6 \n",
      "Words: 0.014*\"get\" + 0.011*\"use\" + 0.010*\"alexa\" + 0.009*\"know\" + 0.009*\"dot\" + 0.009*\"echo\" + 0.009*\"dont\" + 0.008*\"like\" + 0.008*\"would\" + 0.008*\"googl\"\n",
      "Topic: 7 \n",
      "Words: 0.022*\"use\" + 0.020*\"dot\" + 0.014*\"product\" + 0.013*\"set\" + 0.012*\"app\" + 0.010*\"work\" + 0.010*\"get\" + 0.010*\"echo\" + 0.009*\"alexa\" + 0.009*\"never\"\n",
      "Topic: 8 \n",
      "Words: 0.013*\"use\" + 0.012*\"echo\" + 0.012*\"cant\" + 0.012*\"alexa\" + 0.011*\"dot\" + 0.010*\"music\" + 0.007*\"amazon\" + 0.007*\"one\" + 0.007*\"doesnt\" + 0.006*\"household\"\n",
      "Topic: 9 \n",
      "Words: 0.019*\"echo\" + 0.017*\"alexa\" + 0.016*\"time\" + 0.014*\"play\" + 0.013*\"dot\" + 0.009*\"doesnt\" + 0.009*\"music\" + 0.008*\"phone\" + 0.008*\"connect\" + 0.007*\"app\"\n"
     ]
    }
   ],
   "source": [
    "# Creating list of lists of tokens\n",
    "reviews = [doc.split() for doc in neg_review['Review Text']]\n",
    "# Creating dictionary of words\n",
    "dictReviews = corpora.Dictionary(reviews)\n",
    "# Converting corpus to the bag-of-words format\n",
    "corpus = [dictReviews.doc2bow(text) for text in reviews]\n",
    "# Training LDA model\n",
    "num_topics = 10\n",
    "model = gensim.models.ldamodel.LdaModel(corpus=corpus,\n",
    "                                            num_topics=num_topics,\n",
    "                                            id2word=dictReviews,\n",
    "                                            passes=50)\n",
    "# Print the topics and their top words\n",
    "for idx, topic in model.print_topics(-1):\n",
    "      print('Topic: {} \\nWords: {}'. format(idx, topic))"
   ]
  },
  {
   "cell_type": "code",
   "execution_count": null,
   "metadata": {
    "colab": {
     "base_uri": "https://localhost:8080/"
    },
    "id": "0ImXtXIVPUAD",
    "outputId": "d22686f4-00b3-4420-a769-b628d630b6fd"
   },
   "outputs": [
    {
     "name": "stdout",
     "output_type": "stream",
     "text": [
      "\n",
      "Topic: 0\n",
      "Top words: ['amazon', 'music', 'work', 'ask', 'return', 'question', 'echo', 'one', 'thing', 'answer']\n",
      "\n",
      "Topic: 1\n",
      "Top words: ['amazon', 'get', 'use', 'ask', 'alexa', 'devic', 'like', 'would', 'work', 'dot']\n",
      "\n",
      "Topic: 2\n",
      "Top words: ['alexa', 'wifi', 'question', 'devic', 'dot', 'time', 'one', 'understand', 'even', 'answer']\n",
      "\n",
      "Topic: 3\n",
      "Top words: ['like', 'use', 'alexa', 'play', 'sometim', 'thing', 'time', 'amazon', 'work', 'game']\n",
      "\n",
      "Topic: 4\n",
      "Top words: ['work', 'speaker', 'echo', 'alexa', 'connect', 'dot', 'time', 'use', 'hard', 'like']\n",
      "\n",
      "Topic: 5\n",
      "Top words: ['dot', 'echo', 'music', 'one', 'play', 'amazon', 'use', 'alexa', 'get', 'like']\n",
      "\n",
      "Topic: 6\n",
      "Top words: ['get', 'use', 'alexa', 'know', 'dot', 'echo', 'dont', 'like', 'would', 'googl']\n",
      "\n",
      "Topic: 7\n",
      "Top words: ['use', 'dot', 'product', 'set', 'app', 'work', 'get', 'echo', 'alexa', 'never']\n",
      "\n",
      "Topic: 8\n",
      "Top words: ['use', 'echo', 'cant', 'alexa', 'dot', 'music', 'amazon', 'one', 'doesnt', 'household']\n",
      "\n",
      "Topic: 9\n",
      "Top words: ['echo', 'alexa', 'time', 'play', 'dot', 'doesnt', 'music', 'phone', 'connect', 'app']\n"
     ]
    }
   ],
   "source": [
    "#  Displaying topics without frequency\n",
    "topTopics = model.show_topics(num_topics, formatted=False, num_words=10)\n",
    "for topic in topTopics:\n",
    "  print('\\nTopic:', topic[0])\n",
    "  topWords = [word[0] for word in topic[1]]\n",
    "  print('Top words:', topWords)"
   ]
  },
  {
   "cell_type": "code",
   "execution_count": null,
   "metadata": {
    "colab": {
     "base_uri": "https://localhost:8080/",
     "height": 512
    },
    "id": "3A6utSBBtqB9",
    "outputId": "fb446ad0-a2ec-4fc1-e64e-aba70cb897c6"
   },
   "outputs": [],
   "source": [
    "# Create a dictionary with the frequency of each word in the top 5 topics\n",
    "wordFreq = {}\n",
    "for topic in topTopics:\n",
    "    for word, freq in topic[1]:\n",
    "        if word in wordFreq:\n",
    "            wordFreq[word] += freq\n",
    "        else:\n",
    "            wordFreq[word] = freq\n",
    "\n",
    "# Sort the dictionary in descending order based on the frequency\n",
    "sorted_wordFreq = sorted(wordFreq.items(), key=lambda x: x[1], reverse=True)\n",
    "\n",
    "# Extract the top 10 words and their frequencies from the sorted dictionary\n",
    "top_Words = [word[0] for word in sorted_wordFreq[:10]]\n",
    "top_Freqs = [word[1] for word in sorted_wordFreq[:10]]\n",
    "\n",
    "# Generate random colors for each bar\n",
    "colors = ['r', 'g', 'b', 'c', 'm', 'y', 'k', 'orange', 'blue', 'green']\n",
    "\n",
    "# Create a bar chart with different colors for each bar\n",
    "plt.bar(top_Words, top_Freqs, color=colors)\n",
    "plt.xticks(rotation=45)\n",
    "plt.xlabel('Words')\n",
    "plt.ylabel('Frequency')\n",
    "plt.title('Top 10 Words from Top 5 Topics')\n",
    "\n",
    "plt.show()"
   ]
  },
  {
   "cell_type": "code",
   "execution_count": null,
   "metadata": {
    "colab": {
     "base_uri": "https://localhost:8080/",
     "height": 607
    },
    "id": "UoaR_vnOtqPj",
    "outputId": "37457c41-eded-4994-8b99-f21ead9eee50"
   },
   "outputs": [],
   "source": [
    "# Set the size of the figure\n",
    "plt.figure(figsize=(7, 7))\n",
    "\n",
    "# Create a pie chart with different colors for each slice\n",
    "colors = ['r', 'g', 'b', 'c', 'm', 'y', 'orange', 'purple', 'gray', 'pink']\n",
    "plt.pie(top_Freqs, labels=top_Words, colors=colors, autopct='%1.1f%%', startangle=90)\n",
    "\n",
    "plt.axis('equal')\n",
    "plt.title('Top 10 Words from Top 5 Topics')\n",
    "plt.show()\n"
   ]
  }
 ],
 "metadata": {
  "colab": {
   "provenance": []
  },
  "kernelspec": {
   "display_name": "Python 3 (ipykernel)",
   "language": "python",
   "name": "python3"
  },
  "language_info": {
   "codemirror_mode": {
    "name": "ipython",
    "version": 3
   },
   "file_extension": ".py",
   "mimetype": "text/x-python",
   "name": "python",
   "nbconvert_exporter": "python",
   "pygments_lexer": "ipython3",
   "version": "3.12.7"
  }
 },
 "nbformat": 4,
 "nbformat_minor": 4
}
